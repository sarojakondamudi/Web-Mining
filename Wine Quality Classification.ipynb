{
 "cells": [
  {
   "cell_type": "code",
   "execution_count": 2,
   "metadata": {},
   "outputs": [],
   "source": [
    "import numpy as np\n",
    "import pandas as pd\n",
    "import matplotlib.pyplot as plt\n",
    "import seaborn as sns\n",
    "%matplotlib inline\n",
    "from sklearn.model_selection import GridSearchCV\n",
    "from sklearn.linear_model import LogisticRegression\n",
    "from sklearn import metrics\n",
    "from sklearn.metrics import confusion_matrix\n",
    "from sklearn.preprocessing import StandardScaler\n",
    "from sklearn.model_selection import train_test_split\n",
    "sns.set()"
   ]
  },
  {
   "cell_type": "code",
   "execution_count": 3,
   "metadata": {},
   "outputs": [],
   "source": [
    "vin = pd.read_csv('winequality-white.csv', sep=';')"
   ]
  },
  {
   "cell_type": "code",
   "execution_count": 4,
   "metadata": {},
   "outputs": [
    {
     "data": {
      "text/html": [
       "<div>\n",
       "<style scoped>\n",
       "    .dataframe tbody tr th:only-of-type {\n",
       "        vertical-align: middle;\n",
       "    }\n",
       "\n",
       "    .dataframe tbody tr th {\n",
       "        vertical-align: top;\n",
       "    }\n",
       "\n",
       "    .dataframe thead th {\n",
       "        text-align: right;\n",
       "    }\n",
       "</style>\n",
       "<table border=\"1\" class=\"dataframe\">\n",
       "  <thead>\n",
       "    <tr style=\"text-align: right;\">\n",
       "      <th></th>\n",
       "      <th>fixed acidity</th>\n",
       "      <th>volatile acidity</th>\n",
       "      <th>citric acid</th>\n",
       "      <th>residual sugar</th>\n",
       "      <th>chlorides</th>\n",
       "      <th>free sulfur dioxide</th>\n",
       "      <th>total sulfur dioxide</th>\n",
       "      <th>density</th>\n",
       "      <th>pH</th>\n",
       "      <th>sulphates</th>\n",
       "      <th>alcohol</th>\n",
       "      <th>quality</th>\n",
       "    </tr>\n",
       "  </thead>\n",
       "  <tbody>\n",
       "    <tr>\n",
       "      <td>4893</td>\n",
       "      <td>6.2</td>\n",
       "      <td>0.21</td>\n",
       "      <td>0.29</td>\n",
       "      <td>1.6</td>\n",
       "      <td>0.039</td>\n",
       "      <td>24.0</td>\n",
       "      <td>92.0</td>\n",
       "      <td>0.99114</td>\n",
       "      <td>3.27</td>\n",
       "      <td>0.50</td>\n",
       "      <td>11.2</td>\n",
       "      <td>6</td>\n",
       "    </tr>\n",
       "    <tr>\n",
       "      <td>4894</td>\n",
       "      <td>6.6</td>\n",
       "      <td>0.32</td>\n",
       "      <td>0.36</td>\n",
       "      <td>8.0</td>\n",
       "      <td>0.047</td>\n",
       "      <td>57.0</td>\n",
       "      <td>168.0</td>\n",
       "      <td>0.99490</td>\n",
       "      <td>3.15</td>\n",
       "      <td>0.46</td>\n",
       "      <td>9.6</td>\n",
       "      <td>5</td>\n",
       "    </tr>\n",
       "    <tr>\n",
       "      <td>4895</td>\n",
       "      <td>6.5</td>\n",
       "      <td>0.24</td>\n",
       "      <td>0.19</td>\n",
       "      <td>1.2</td>\n",
       "      <td>0.041</td>\n",
       "      <td>30.0</td>\n",
       "      <td>111.0</td>\n",
       "      <td>0.99254</td>\n",
       "      <td>2.99</td>\n",
       "      <td>0.46</td>\n",
       "      <td>9.4</td>\n",
       "      <td>6</td>\n",
       "    </tr>\n",
       "    <tr>\n",
       "      <td>4896</td>\n",
       "      <td>5.5</td>\n",
       "      <td>0.29</td>\n",
       "      <td>0.30</td>\n",
       "      <td>1.1</td>\n",
       "      <td>0.022</td>\n",
       "      <td>20.0</td>\n",
       "      <td>110.0</td>\n",
       "      <td>0.98869</td>\n",
       "      <td>3.34</td>\n",
       "      <td>0.38</td>\n",
       "      <td>12.8</td>\n",
       "      <td>7</td>\n",
       "    </tr>\n",
       "    <tr>\n",
       "      <td>4897</td>\n",
       "      <td>6.0</td>\n",
       "      <td>0.21</td>\n",
       "      <td>0.38</td>\n",
       "      <td>0.8</td>\n",
       "      <td>0.020</td>\n",
       "      <td>22.0</td>\n",
       "      <td>98.0</td>\n",
       "      <td>0.98941</td>\n",
       "      <td>3.26</td>\n",
       "      <td>0.32</td>\n",
       "      <td>11.8</td>\n",
       "      <td>6</td>\n",
       "    </tr>\n",
       "  </tbody>\n",
       "</table>\n",
       "</div>"
      ],
      "text/plain": [
       "      fixed acidity  volatile acidity  citric acid  residual sugar  chlorides  \\\n",
       "4893            6.2              0.21         0.29             1.6      0.039   \n",
       "4894            6.6              0.32         0.36             8.0      0.047   \n",
       "4895            6.5              0.24         0.19             1.2      0.041   \n",
       "4896            5.5              0.29         0.30             1.1      0.022   \n",
       "4897            6.0              0.21         0.38             0.8      0.020   \n",
       "\n",
       "      free sulfur dioxide  total sulfur dioxide  density    pH  sulphates  \\\n",
       "4893                 24.0                  92.0  0.99114  3.27       0.50   \n",
       "4894                 57.0                 168.0  0.99490  3.15       0.46   \n",
       "4895                 30.0                 111.0  0.99254  2.99       0.46   \n",
       "4896                 20.0                 110.0  0.98869  3.34       0.38   \n",
       "4897                 22.0                  98.0  0.98941  3.26       0.32   \n",
       "\n",
       "      alcohol  quality  \n",
       "4893     11.2        6  \n",
       "4894      9.6        5  \n",
       "4895      9.4        6  \n",
       "4896     12.8        7  \n",
       "4897     11.8        6  "
      ]
     },
     "execution_count": 4,
     "metadata": {},
     "output_type": "execute_result"
    }
   ],
   "source": [
    "vin.tail(5)"
   ]
  },
  {
   "cell_type": "code",
   "execution_count": 5,
   "metadata": {},
   "outputs": [
    {
     "name": "stdout",
     "output_type": "stream",
     "text": [
      "<class 'pandas.core.frame.DataFrame'>\n",
      "RangeIndex: 4898 entries, 0 to 4897\n",
      "Data columns (total 12 columns):\n",
      "fixed acidity           4898 non-null float64\n",
      "volatile acidity        4898 non-null float64\n",
      "citric acid             4898 non-null float64\n",
      "residual sugar          4898 non-null float64\n",
      "chlorides               4898 non-null float64\n",
      "free sulfur dioxide     4898 non-null float64\n",
      "total sulfur dioxide    4898 non-null float64\n",
      "density                 4898 non-null float64\n",
      "pH                      4898 non-null float64\n",
      "sulphates               4898 non-null float64\n",
      "alcohol                 4898 non-null float64\n",
      "quality                 4898 non-null int64\n",
      "dtypes: float64(11), int64(1)\n",
      "memory usage: 459.3 KB\n"
     ]
    }
   ],
   "source": [
    "vin.info()"
   ]
  },
  {
   "cell_type": "code",
   "execution_count": 6,
   "metadata": {},
   "outputs": [],
   "source": [
    "TASTE = []\n",
    "for i in vin['quality']:\n",
    "    if i >= 7:\n",
    "        i=1\n",
    "        TASTE.append(i)\n",
    "    else:\n",
    "        i=0\n",
    "        TASTE.append(i)\n",
    "vin['TASTE'] = TASTE"
   ]
  },
  {
   "cell_type": "code",
   "execution_count": 7,
   "metadata": {},
   "outputs": [
    {
     "data": {
      "text/html": [
       "<div>\n",
       "<style scoped>\n",
       "    .dataframe tbody tr th:only-of-type {\n",
       "        vertical-align: middle;\n",
       "    }\n",
       "\n",
       "    .dataframe tbody tr th {\n",
       "        vertical-align: top;\n",
       "    }\n",
       "\n",
       "    .dataframe thead th {\n",
       "        text-align: right;\n",
       "    }\n",
       "</style>\n",
       "<table border=\"1\" class=\"dataframe\">\n",
       "  <thead>\n",
       "    <tr style=\"text-align: right;\">\n",
       "      <th></th>\n",
       "      <th>fixed acidity</th>\n",
       "      <th>volatile acidity</th>\n",
       "      <th>citric acid</th>\n",
       "      <th>residual sugar</th>\n",
       "      <th>chlorides</th>\n",
       "      <th>free sulfur dioxide</th>\n",
       "      <th>total sulfur dioxide</th>\n",
       "      <th>density</th>\n",
       "      <th>pH</th>\n",
       "      <th>sulphates</th>\n",
       "      <th>alcohol</th>\n",
       "      <th>quality</th>\n",
       "      <th>TASTE</th>\n",
       "    </tr>\n",
       "  </thead>\n",
       "  <tbody>\n",
       "    <tr>\n",
       "      <td>4893</td>\n",
       "      <td>6.2</td>\n",
       "      <td>0.21</td>\n",
       "      <td>0.29</td>\n",
       "      <td>1.6</td>\n",
       "      <td>0.039</td>\n",
       "      <td>24.0</td>\n",
       "      <td>92.0</td>\n",
       "      <td>0.99114</td>\n",
       "      <td>3.27</td>\n",
       "      <td>0.50</td>\n",
       "      <td>11.2</td>\n",
       "      <td>6</td>\n",
       "      <td>0</td>\n",
       "    </tr>\n",
       "    <tr>\n",
       "      <td>4894</td>\n",
       "      <td>6.6</td>\n",
       "      <td>0.32</td>\n",
       "      <td>0.36</td>\n",
       "      <td>8.0</td>\n",
       "      <td>0.047</td>\n",
       "      <td>57.0</td>\n",
       "      <td>168.0</td>\n",
       "      <td>0.99490</td>\n",
       "      <td>3.15</td>\n",
       "      <td>0.46</td>\n",
       "      <td>9.6</td>\n",
       "      <td>5</td>\n",
       "      <td>0</td>\n",
       "    </tr>\n",
       "    <tr>\n",
       "      <td>4895</td>\n",
       "      <td>6.5</td>\n",
       "      <td>0.24</td>\n",
       "      <td>0.19</td>\n",
       "      <td>1.2</td>\n",
       "      <td>0.041</td>\n",
       "      <td>30.0</td>\n",
       "      <td>111.0</td>\n",
       "      <td>0.99254</td>\n",
       "      <td>2.99</td>\n",
       "      <td>0.46</td>\n",
       "      <td>9.4</td>\n",
       "      <td>6</td>\n",
       "      <td>0</td>\n",
       "    </tr>\n",
       "    <tr>\n",
       "      <td>4896</td>\n",
       "      <td>5.5</td>\n",
       "      <td>0.29</td>\n",
       "      <td>0.30</td>\n",
       "      <td>1.1</td>\n",
       "      <td>0.022</td>\n",
       "      <td>20.0</td>\n",
       "      <td>110.0</td>\n",
       "      <td>0.98869</td>\n",
       "      <td>3.34</td>\n",
       "      <td>0.38</td>\n",
       "      <td>12.8</td>\n",
       "      <td>7</td>\n",
       "      <td>1</td>\n",
       "    </tr>\n",
       "    <tr>\n",
       "      <td>4897</td>\n",
       "      <td>6.0</td>\n",
       "      <td>0.21</td>\n",
       "      <td>0.38</td>\n",
       "      <td>0.8</td>\n",
       "      <td>0.020</td>\n",
       "      <td>22.0</td>\n",
       "      <td>98.0</td>\n",
       "      <td>0.98941</td>\n",
       "      <td>3.26</td>\n",
       "      <td>0.32</td>\n",
       "      <td>11.8</td>\n",
       "      <td>6</td>\n",
       "      <td>0</td>\n",
       "    </tr>\n",
       "  </tbody>\n",
       "</table>\n",
       "</div>"
      ],
      "text/plain": [
       "      fixed acidity  volatile acidity  citric acid  residual sugar  chlorides  \\\n",
       "4893            6.2              0.21         0.29             1.6      0.039   \n",
       "4894            6.6              0.32         0.36             8.0      0.047   \n",
       "4895            6.5              0.24         0.19             1.2      0.041   \n",
       "4896            5.5              0.29         0.30             1.1      0.022   \n",
       "4897            6.0              0.21         0.38             0.8      0.020   \n",
       "\n",
       "      free sulfur dioxide  total sulfur dioxide  density    pH  sulphates  \\\n",
       "4893                 24.0                  92.0  0.99114  3.27       0.50   \n",
       "4894                 57.0                 168.0  0.99490  3.15       0.46   \n",
       "4895                 30.0                 111.0  0.99254  2.99       0.46   \n",
       "4896                 20.0                 110.0  0.98869  3.34       0.38   \n",
       "4897                 22.0                  98.0  0.98941  3.26       0.32   \n",
       "\n",
       "      alcohol  quality  TASTE  \n",
       "4893     11.2        6      0  \n",
       "4894      9.6        5      0  \n",
       "4895      9.4        6      0  \n",
       "4896     12.8        7      1  \n",
       "4897     11.8        6      0  "
      ]
     },
     "execution_count": 7,
     "metadata": {},
     "output_type": "execute_result"
    }
   ],
   "source": [
    "vin.tail(5)"
   ]
  },
  {
   "cell_type": "code",
   "execution_count": 8,
   "metadata": {},
   "outputs": [],
   "source": [
    "vin.drop('quality', axis=1, inplace=True)"
   ]
  },
  {
   "cell_type": "code",
   "execution_count": 9,
   "metadata": {},
   "outputs": [
    {
     "data": {
      "text/html": [
       "<div>\n",
       "<style scoped>\n",
       "    .dataframe tbody tr th:only-of-type {\n",
       "        vertical-align: middle;\n",
       "    }\n",
       "\n",
       "    .dataframe tbody tr th {\n",
       "        vertical-align: top;\n",
       "    }\n",
       "\n",
       "    .dataframe thead th {\n",
       "        text-align: right;\n",
       "    }\n",
       "</style>\n",
       "<table border=\"1\" class=\"dataframe\">\n",
       "  <thead>\n",
       "    <tr style=\"text-align: right;\">\n",
       "      <th></th>\n",
       "      <th>fixed acidity</th>\n",
       "      <th>volatile acidity</th>\n",
       "      <th>citric acid</th>\n",
       "      <th>residual sugar</th>\n",
       "      <th>chlorides</th>\n",
       "      <th>free sulfur dioxide</th>\n",
       "      <th>total sulfur dioxide</th>\n",
       "      <th>density</th>\n",
       "      <th>pH</th>\n",
       "      <th>sulphates</th>\n",
       "      <th>alcohol</th>\n",
       "      <th>TASTE</th>\n",
       "    </tr>\n",
       "  </thead>\n",
       "  <tbody>\n",
       "    <tr>\n",
       "      <td>4893</td>\n",
       "      <td>6.2</td>\n",
       "      <td>0.21</td>\n",
       "      <td>0.29</td>\n",
       "      <td>1.6</td>\n",
       "      <td>0.039</td>\n",
       "      <td>24.0</td>\n",
       "      <td>92.0</td>\n",
       "      <td>0.99114</td>\n",
       "      <td>3.27</td>\n",
       "      <td>0.50</td>\n",
       "      <td>11.2</td>\n",
       "      <td>0</td>\n",
       "    </tr>\n",
       "    <tr>\n",
       "      <td>4894</td>\n",
       "      <td>6.6</td>\n",
       "      <td>0.32</td>\n",
       "      <td>0.36</td>\n",
       "      <td>8.0</td>\n",
       "      <td>0.047</td>\n",
       "      <td>57.0</td>\n",
       "      <td>168.0</td>\n",
       "      <td>0.99490</td>\n",
       "      <td>3.15</td>\n",
       "      <td>0.46</td>\n",
       "      <td>9.6</td>\n",
       "      <td>0</td>\n",
       "    </tr>\n",
       "    <tr>\n",
       "      <td>4895</td>\n",
       "      <td>6.5</td>\n",
       "      <td>0.24</td>\n",
       "      <td>0.19</td>\n",
       "      <td>1.2</td>\n",
       "      <td>0.041</td>\n",
       "      <td>30.0</td>\n",
       "      <td>111.0</td>\n",
       "      <td>0.99254</td>\n",
       "      <td>2.99</td>\n",
       "      <td>0.46</td>\n",
       "      <td>9.4</td>\n",
       "      <td>0</td>\n",
       "    </tr>\n",
       "    <tr>\n",
       "      <td>4896</td>\n",
       "      <td>5.5</td>\n",
       "      <td>0.29</td>\n",
       "      <td>0.30</td>\n",
       "      <td>1.1</td>\n",
       "      <td>0.022</td>\n",
       "      <td>20.0</td>\n",
       "      <td>110.0</td>\n",
       "      <td>0.98869</td>\n",
       "      <td>3.34</td>\n",
       "      <td>0.38</td>\n",
       "      <td>12.8</td>\n",
       "      <td>1</td>\n",
       "    </tr>\n",
       "    <tr>\n",
       "      <td>4897</td>\n",
       "      <td>6.0</td>\n",
       "      <td>0.21</td>\n",
       "      <td>0.38</td>\n",
       "      <td>0.8</td>\n",
       "      <td>0.020</td>\n",
       "      <td>22.0</td>\n",
       "      <td>98.0</td>\n",
       "      <td>0.98941</td>\n",
       "      <td>3.26</td>\n",
       "      <td>0.32</td>\n",
       "      <td>11.8</td>\n",
       "      <td>0</td>\n",
       "    </tr>\n",
       "  </tbody>\n",
       "</table>\n",
       "</div>"
      ],
      "text/plain": [
       "      fixed acidity  volatile acidity  citric acid  residual sugar  chlorides  \\\n",
       "4893            6.2              0.21         0.29             1.6      0.039   \n",
       "4894            6.6              0.32         0.36             8.0      0.047   \n",
       "4895            6.5              0.24         0.19             1.2      0.041   \n",
       "4896            5.5              0.29         0.30             1.1      0.022   \n",
       "4897            6.0              0.21         0.38             0.8      0.020   \n",
       "\n",
       "      free sulfur dioxide  total sulfur dioxide  density    pH  sulphates  \\\n",
       "4893                 24.0                  92.0  0.99114  3.27       0.50   \n",
       "4894                 57.0                 168.0  0.99490  3.15       0.46   \n",
       "4895                 30.0                 111.0  0.99254  2.99       0.46   \n",
       "4896                 20.0                 110.0  0.98869  3.34       0.38   \n",
       "4897                 22.0                  98.0  0.98941  3.26       0.32   \n",
       "\n",
       "      alcohol  TASTE  \n",
       "4893     11.2      0  \n",
       "4894      9.6      0  \n",
       "4895      9.4      0  \n",
       "4896     12.8      1  \n",
       "4897     11.8      0  "
      ]
     },
     "execution_count": 9,
     "metadata": {},
     "output_type": "execute_result"
    }
   ],
   "source": [
    "vin.tail(5)"
   ]
  },
  {
   "cell_type": "code",
   "execution_count": 10,
   "metadata": {},
   "outputs": [
    {
     "data": {
      "text/html": [
       "<div>\n",
       "<style scoped>\n",
       "    .dataframe tbody tr th:only-of-type {\n",
       "        vertical-align: middle;\n",
       "    }\n",
       "\n",
       "    .dataframe tbody tr th {\n",
       "        vertical-align: top;\n",
       "    }\n",
       "\n",
       "    .dataframe thead th {\n",
       "        text-align: right;\n",
       "    }\n",
       "</style>\n",
       "<table border=\"1\" class=\"dataframe\">\n",
       "  <thead>\n",
       "    <tr style=\"text-align: right;\">\n",
       "      <th></th>\n",
       "      <th>fixed acidity</th>\n",
       "      <th>volatile acidity</th>\n",
       "      <th>citric acid</th>\n",
       "      <th>residual sugar</th>\n",
       "      <th>chlorides</th>\n",
       "      <th>free sulfur dioxide</th>\n",
       "      <th>total sulfur dioxide</th>\n",
       "      <th>density</th>\n",
       "      <th>pH</th>\n",
       "      <th>sulphates</th>\n",
       "      <th>alcohol</th>\n",
       "      <th>TASTE</th>\n",
       "    </tr>\n",
       "  </thead>\n",
       "  <tbody>\n",
       "    <tr>\n",
       "      <td>count</td>\n",
       "      <td>4898.000000</td>\n",
       "      <td>4898.000000</td>\n",
       "      <td>4898.000000</td>\n",
       "      <td>4898.000000</td>\n",
       "      <td>4898.000000</td>\n",
       "      <td>4898.000000</td>\n",
       "      <td>4898.000000</td>\n",
       "      <td>4898.000000</td>\n",
       "      <td>4898.000000</td>\n",
       "      <td>4898.000000</td>\n",
       "      <td>4898.000000</td>\n",
       "      <td>4898.000000</td>\n",
       "    </tr>\n",
       "    <tr>\n",
       "      <td>mean</td>\n",
       "      <td>6.854788</td>\n",
       "      <td>0.278241</td>\n",
       "      <td>0.334192</td>\n",
       "      <td>6.391415</td>\n",
       "      <td>0.045772</td>\n",
       "      <td>35.308085</td>\n",
       "      <td>138.360657</td>\n",
       "      <td>0.994027</td>\n",
       "      <td>3.188267</td>\n",
       "      <td>0.489847</td>\n",
       "      <td>10.514267</td>\n",
       "      <td>0.216415</td>\n",
       "    </tr>\n",
       "    <tr>\n",
       "      <td>std</td>\n",
       "      <td>0.843868</td>\n",
       "      <td>0.100795</td>\n",
       "      <td>0.121020</td>\n",
       "      <td>5.072058</td>\n",
       "      <td>0.021848</td>\n",
       "      <td>17.007137</td>\n",
       "      <td>42.498065</td>\n",
       "      <td>0.002991</td>\n",
       "      <td>0.151001</td>\n",
       "      <td>0.114126</td>\n",
       "      <td>1.230621</td>\n",
       "      <td>0.411842</td>\n",
       "    </tr>\n",
       "    <tr>\n",
       "      <td>min</td>\n",
       "      <td>3.800000</td>\n",
       "      <td>0.080000</td>\n",
       "      <td>0.000000</td>\n",
       "      <td>0.600000</td>\n",
       "      <td>0.009000</td>\n",
       "      <td>2.000000</td>\n",
       "      <td>9.000000</td>\n",
       "      <td>0.987110</td>\n",
       "      <td>2.720000</td>\n",
       "      <td>0.220000</td>\n",
       "      <td>8.000000</td>\n",
       "      <td>0.000000</td>\n",
       "    </tr>\n",
       "    <tr>\n",
       "      <td>25%</td>\n",
       "      <td>6.300000</td>\n",
       "      <td>0.210000</td>\n",
       "      <td>0.270000</td>\n",
       "      <td>1.700000</td>\n",
       "      <td>0.036000</td>\n",
       "      <td>23.000000</td>\n",
       "      <td>108.000000</td>\n",
       "      <td>0.991723</td>\n",
       "      <td>3.090000</td>\n",
       "      <td>0.410000</td>\n",
       "      <td>9.500000</td>\n",
       "      <td>0.000000</td>\n",
       "    </tr>\n",
       "    <tr>\n",
       "      <td>50%</td>\n",
       "      <td>6.800000</td>\n",
       "      <td>0.260000</td>\n",
       "      <td>0.320000</td>\n",
       "      <td>5.200000</td>\n",
       "      <td>0.043000</td>\n",
       "      <td>34.000000</td>\n",
       "      <td>134.000000</td>\n",
       "      <td>0.993740</td>\n",
       "      <td>3.180000</td>\n",
       "      <td>0.470000</td>\n",
       "      <td>10.400000</td>\n",
       "      <td>0.000000</td>\n",
       "    </tr>\n",
       "    <tr>\n",
       "      <td>75%</td>\n",
       "      <td>7.300000</td>\n",
       "      <td>0.320000</td>\n",
       "      <td>0.390000</td>\n",
       "      <td>9.900000</td>\n",
       "      <td>0.050000</td>\n",
       "      <td>46.000000</td>\n",
       "      <td>167.000000</td>\n",
       "      <td>0.996100</td>\n",
       "      <td>3.280000</td>\n",
       "      <td>0.550000</td>\n",
       "      <td>11.400000</td>\n",
       "      <td>0.000000</td>\n",
       "    </tr>\n",
       "    <tr>\n",
       "      <td>max</td>\n",
       "      <td>14.200000</td>\n",
       "      <td>1.100000</td>\n",
       "      <td>1.660000</td>\n",
       "      <td>65.800000</td>\n",
       "      <td>0.346000</td>\n",
       "      <td>289.000000</td>\n",
       "      <td>440.000000</td>\n",
       "      <td>1.038980</td>\n",
       "      <td>3.820000</td>\n",
       "      <td>1.080000</td>\n",
       "      <td>14.200000</td>\n",
       "      <td>1.000000</td>\n",
       "    </tr>\n",
       "  </tbody>\n",
       "</table>\n",
       "</div>"
      ],
      "text/plain": [
       "       fixed acidity  volatile acidity  citric acid  residual sugar  \\\n",
       "count    4898.000000       4898.000000  4898.000000     4898.000000   \n",
       "mean        6.854788          0.278241     0.334192        6.391415   \n",
       "std         0.843868          0.100795     0.121020        5.072058   \n",
       "min         3.800000          0.080000     0.000000        0.600000   \n",
       "25%         6.300000          0.210000     0.270000        1.700000   \n",
       "50%         6.800000          0.260000     0.320000        5.200000   \n",
       "75%         7.300000          0.320000     0.390000        9.900000   \n",
       "max        14.200000          1.100000     1.660000       65.800000   \n",
       "\n",
       "         chlorides  free sulfur dioxide  total sulfur dioxide      density  \\\n",
       "count  4898.000000          4898.000000           4898.000000  4898.000000   \n",
       "mean      0.045772            35.308085            138.360657     0.994027   \n",
       "std       0.021848            17.007137             42.498065     0.002991   \n",
       "min       0.009000             2.000000              9.000000     0.987110   \n",
       "25%       0.036000            23.000000            108.000000     0.991723   \n",
       "50%       0.043000            34.000000            134.000000     0.993740   \n",
       "75%       0.050000            46.000000            167.000000     0.996100   \n",
       "max       0.346000           289.000000            440.000000     1.038980   \n",
       "\n",
       "                pH    sulphates      alcohol        TASTE  \n",
       "count  4898.000000  4898.000000  4898.000000  4898.000000  \n",
       "mean      3.188267     0.489847    10.514267     0.216415  \n",
       "std       0.151001     0.114126     1.230621     0.411842  \n",
       "min       2.720000     0.220000     8.000000     0.000000  \n",
       "25%       3.090000     0.410000     9.500000     0.000000  \n",
       "50%       3.180000     0.470000    10.400000     0.000000  \n",
       "75%       3.280000     0.550000    11.400000     0.000000  \n",
       "max       3.820000     1.080000    14.200000     1.000000  "
      ]
     },
     "execution_count": 10,
     "metadata": {},
     "output_type": "execute_result"
    }
   ],
   "source": [
    "vin.describe()"
   ]
  },
  {
   "cell_type": "code",
   "execution_count": 11,
   "metadata": {},
   "outputs": [
    {
     "data": {
      "text/html": [
       "<div>\n",
       "<style scoped>\n",
       "    .dataframe tbody tr th:only-of-type {\n",
       "        vertical-align: middle;\n",
       "    }\n",
       "\n",
       "    .dataframe tbody tr th {\n",
       "        vertical-align: top;\n",
       "    }\n",
       "\n",
       "    .dataframe thead th {\n",
       "        text-align: right;\n",
       "    }\n",
       "</style>\n",
       "<table border=\"1\" class=\"dataframe\">\n",
       "  <thead>\n",
       "    <tr style=\"text-align: right;\">\n",
       "      <th></th>\n",
       "      <th>fixed acidity</th>\n",
       "      <th>volatile acidity</th>\n",
       "      <th>citric acid</th>\n",
       "      <th>residual sugar</th>\n",
       "      <th>chlorides</th>\n",
       "      <th>free sulfur dioxide</th>\n",
       "      <th>total sulfur dioxide</th>\n",
       "      <th>density</th>\n",
       "      <th>pH</th>\n",
       "      <th>sulphates</th>\n",
       "      <th>alcohol</th>\n",
       "      <th>TASTE</th>\n",
       "    </tr>\n",
       "  </thead>\n",
       "  <tbody>\n",
       "    <tr>\n",
       "      <td>fixed acidity</td>\n",
       "      <td>1.000000</td>\n",
       "      <td>-0.022697</td>\n",
       "      <td>0.289181</td>\n",
       "      <td>0.089021</td>\n",
       "      <td>0.023086</td>\n",
       "      <td>-0.049396</td>\n",
       "      <td>0.091070</td>\n",
       "      <td>0.265331</td>\n",
       "      <td>-0.425858</td>\n",
       "      <td>-0.017143</td>\n",
       "      <td>-0.120881</td>\n",
       "      <td>-0.080748</td>\n",
       "    </tr>\n",
       "    <tr>\n",
       "      <td>volatile acidity</td>\n",
       "      <td>-0.022697</td>\n",
       "      <td>1.000000</td>\n",
       "      <td>-0.149472</td>\n",
       "      <td>0.064286</td>\n",
       "      <td>0.070512</td>\n",
       "      <td>-0.097012</td>\n",
       "      <td>0.089261</td>\n",
       "      <td>0.027114</td>\n",
       "      <td>-0.031915</td>\n",
       "      <td>-0.035728</td>\n",
       "      <td>0.067718</td>\n",
       "      <td>-0.067225</td>\n",
       "    </tr>\n",
       "    <tr>\n",
       "      <td>citric acid</td>\n",
       "      <td>0.289181</td>\n",
       "      <td>-0.149472</td>\n",
       "      <td>1.000000</td>\n",
       "      <td>0.094212</td>\n",
       "      <td>0.114364</td>\n",
       "      <td>0.094077</td>\n",
       "      <td>0.121131</td>\n",
       "      <td>0.149503</td>\n",
       "      <td>-0.163748</td>\n",
       "      <td>0.062331</td>\n",
       "      <td>-0.075729</td>\n",
       "      <td>-0.035330</td>\n",
       "    </tr>\n",
       "    <tr>\n",
       "      <td>residual sugar</td>\n",
       "      <td>0.089021</td>\n",
       "      <td>0.064286</td>\n",
       "      <td>0.094212</td>\n",
       "      <td>1.000000</td>\n",
       "      <td>0.088685</td>\n",
       "      <td>0.299098</td>\n",
       "      <td>0.401439</td>\n",
       "      <td>0.838966</td>\n",
       "      <td>-0.194133</td>\n",
       "      <td>-0.026664</td>\n",
       "      <td>-0.450631</td>\n",
       "      <td>-0.117085</td>\n",
       "    </tr>\n",
       "    <tr>\n",
       "      <td>chlorides</td>\n",
       "      <td>0.023086</td>\n",
       "      <td>0.070512</td>\n",
       "      <td>0.114364</td>\n",
       "      <td>0.088685</td>\n",
       "      <td>1.000000</td>\n",
       "      <td>0.101392</td>\n",
       "      <td>0.198910</td>\n",
       "      <td>0.257211</td>\n",
       "      <td>-0.090439</td>\n",
       "      <td>0.016763</td>\n",
       "      <td>-0.360189</td>\n",
       "      <td>-0.183118</td>\n",
       "    </tr>\n",
       "    <tr>\n",
       "      <td>free sulfur dioxide</td>\n",
       "      <td>-0.049396</td>\n",
       "      <td>-0.097012</td>\n",
       "      <td>0.094077</td>\n",
       "      <td>0.299098</td>\n",
       "      <td>0.101392</td>\n",
       "      <td>1.000000</td>\n",
       "      <td>0.615501</td>\n",
       "      <td>0.294210</td>\n",
       "      <td>-0.000618</td>\n",
       "      <td>0.059217</td>\n",
       "      <td>-0.250104</td>\n",
       "      <td>-0.023413</td>\n",
       "    </tr>\n",
       "    <tr>\n",
       "      <td>total sulfur dioxide</td>\n",
       "      <td>0.091070</td>\n",
       "      <td>0.089261</td>\n",
       "      <td>0.121131</td>\n",
       "      <td>0.401439</td>\n",
       "      <td>0.198910</td>\n",
       "      <td>0.615501</td>\n",
       "      <td>1.000000</td>\n",
       "      <td>0.529881</td>\n",
       "      <td>0.002321</td>\n",
       "      <td>0.134562</td>\n",
       "      <td>-0.448892</td>\n",
       "      <td>-0.162202</td>\n",
       "    </tr>\n",
       "    <tr>\n",
       "      <td>density</td>\n",
       "      <td>0.265331</td>\n",
       "      <td>0.027114</td>\n",
       "      <td>0.149503</td>\n",
       "      <td>0.838966</td>\n",
       "      <td>0.257211</td>\n",
       "      <td>0.294210</td>\n",
       "      <td>0.529881</td>\n",
       "      <td>1.000000</td>\n",
       "      <td>-0.093591</td>\n",
       "      <td>0.074493</td>\n",
       "      <td>-0.780138</td>\n",
       "      <td>-0.283871</td>\n",
       "    </tr>\n",
       "    <tr>\n",
       "      <td>pH</td>\n",
       "      <td>-0.425858</td>\n",
       "      <td>-0.031915</td>\n",
       "      <td>-0.163748</td>\n",
       "      <td>-0.194133</td>\n",
       "      <td>-0.090439</td>\n",
       "      <td>-0.000618</td>\n",
       "      <td>0.002321</td>\n",
       "      <td>-0.093591</td>\n",
       "      <td>1.000000</td>\n",
       "      <td>0.155951</td>\n",
       "      <td>0.121432</td>\n",
       "      <td>0.093510</td>\n",
       "    </tr>\n",
       "    <tr>\n",
       "      <td>sulphates</td>\n",
       "      <td>-0.017143</td>\n",
       "      <td>-0.035728</td>\n",
       "      <td>0.062331</td>\n",
       "      <td>-0.026664</td>\n",
       "      <td>0.016763</td>\n",
       "      <td>0.059217</td>\n",
       "      <td>0.134562</td>\n",
       "      <td>0.074493</td>\n",
       "      <td>0.155951</td>\n",
       "      <td>1.000000</td>\n",
       "      <td>-0.017433</td>\n",
       "      <td>0.047410</td>\n",
       "    </tr>\n",
       "    <tr>\n",
       "      <td>alcohol</td>\n",
       "      <td>-0.120881</td>\n",
       "      <td>0.067718</td>\n",
       "      <td>-0.075729</td>\n",
       "      <td>-0.450631</td>\n",
       "      <td>-0.360189</td>\n",
       "      <td>-0.250104</td>\n",
       "      <td>-0.448892</td>\n",
       "      <td>-0.780138</td>\n",
       "      <td>0.121432</td>\n",
       "      <td>-0.017433</td>\n",
       "      <td>1.000000</td>\n",
       "      <td>0.385132</td>\n",
       "    </tr>\n",
       "    <tr>\n",
       "      <td>TASTE</td>\n",
       "      <td>-0.080748</td>\n",
       "      <td>-0.067225</td>\n",
       "      <td>-0.035330</td>\n",
       "      <td>-0.117085</td>\n",
       "      <td>-0.183118</td>\n",
       "      <td>-0.023413</td>\n",
       "      <td>-0.162202</td>\n",
       "      <td>-0.283871</td>\n",
       "      <td>0.093510</td>\n",
       "      <td>0.047410</td>\n",
       "      <td>0.385132</td>\n",
       "      <td>1.000000</td>\n",
       "    </tr>\n",
       "  </tbody>\n",
       "</table>\n",
       "</div>"
      ],
      "text/plain": [
       "                      fixed acidity  volatile acidity  citric acid  \\\n",
       "fixed acidity              1.000000         -0.022697     0.289181   \n",
       "volatile acidity          -0.022697          1.000000    -0.149472   \n",
       "citric acid                0.289181         -0.149472     1.000000   \n",
       "residual sugar             0.089021          0.064286     0.094212   \n",
       "chlorides                  0.023086          0.070512     0.114364   \n",
       "free sulfur dioxide       -0.049396         -0.097012     0.094077   \n",
       "total sulfur dioxide       0.091070          0.089261     0.121131   \n",
       "density                    0.265331          0.027114     0.149503   \n",
       "pH                        -0.425858         -0.031915    -0.163748   \n",
       "sulphates                 -0.017143         -0.035728     0.062331   \n",
       "alcohol                   -0.120881          0.067718    -0.075729   \n",
       "TASTE                     -0.080748         -0.067225    -0.035330   \n",
       "\n",
       "                      residual sugar  chlorides  free sulfur dioxide  \\\n",
       "fixed acidity               0.089021   0.023086            -0.049396   \n",
       "volatile acidity            0.064286   0.070512            -0.097012   \n",
       "citric acid                 0.094212   0.114364             0.094077   \n",
       "residual sugar              1.000000   0.088685             0.299098   \n",
       "chlorides                   0.088685   1.000000             0.101392   \n",
       "free sulfur dioxide         0.299098   0.101392             1.000000   \n",
       "total sulfur dioxide        0.401439   0.198910             0.615501   \n",
       "density                     0.838966   0.257211             0.294210   \n",
       "pH                         -0.194133  -0.090439            -0.000618   \n",
       "sulphates                  -0.026664   0.016763             0.059217   \n",
       "alcohol                    -0.450631  -0.360189            -0.250104   \n",
       "TASTE                      -0.117085  -0.183118            -0.023413   \n",
       "\n",
       "                      total sulfur dioxide   density        pH  sulphates  \\\n",
       "fixed acidity                     0.091070  0.265331 -0.425858  -0.017143   \n",
       "volatile acidity                  0.089261  0.027114 -0.031915  -0.035728   \n",
       "citric acid                       0.121131  0.149503 -0.163748   0.062331   \n",
       "residual sugar                    0.401439  0.838966 -0.194133  -0.026664   \n",
       "chlorides                         0.198910  0.257211 -0.090439   0.016763   \n",
       "free sulfur dioxide               0.615501  0.294210 -0.000618   0.059217   \n",
       "total sulfur dioxide              1.000000  0.529881  0.002321   0.134562   \n",
       "density                           0.529881  1.000000 -0.093591   0.074493   \n",
       "pH                                0.002321 -0.093591  1.000000   0.155951   \n",
       "sulphates                         0.134562  0.074493  0.155951   1.000000   \n",
       "alcohol                          -0.448892 -0.780138  0.121432  -0.017433   \n",
       "TASTE                            -0.162202 -0.283871  0.093510   0.047410   \n",
       "\n",
       "                       alcohol     TASTE  \n",
       "fixed acidity        -0.120881 -0.080748  \n",
       "volatile acidity      0.067718 -0.067225  \n",
       "citric acid          -0.075729 -0.035330  \n",
       "residual sugar       -0.450631 -0.117085  \n",
       "chlorides            -0.360189 -0.183118  \n",
       "free sulfur dioxide  -0.250104 -0.023413  \n",
       "total sulfur dioxide -0.448892 -0.162202  \n",
       "density              -0.780138 -0.283871  \n",
       "pH                    0.121432  0.093510  \n",
       "sulphates            -0.017433  0.047410  \n",
       "alcohol               1.000000  0.385132  \n",
       "TASTE                 0.385132  1.000000  "
      ]
     },
     "execution_count": 11,
     "metadata": {},
     "output_type": "execute_result"
    }
   ],
   "source": [
    "vin.corr()"
   ]
  },
  {
   "cell_type": "code",
   "execution_count": 13,
   "metadata": {},
   "outputs": [
    {
     "name": "stdout",
     "output_type": "stream",
     "text": [
      "                      fixed acidity  volatile acidity  citric acid  \\\n",
      "fixed acidity              1.000000         -0.022697     0.289181   \n",
      "volatile acidity          -0.022697          1.000000    -0.149472   \n",
      "citric acid                0.289181         -0.149472     1.000000   \n",
      "residual sugar             0.089021          0.064286     0.094212   \n",
      "chlorides                  0.023086          0.070512     0.114364   \n",
      "free sulfur dioxide       -0.049396         -0.097012     0.094077   \n",
      "total sulfur dioxide       0.091070          0.089261     0.121131   \n",
      "density                    0.265331          0.027114     0.149503   \n",
      "pH                        -0.425858         -0.031915    -0.163748   \n",
      "sulphates                 -0.017143         -0.035728     0.062331   \n",
      "alcohol                   -0.120881          0.067718    -0.075729   \n",
      "TASTE                     -0.080748         -0.067225    -0.035330   \n",
      "\n",
      "                      residual sugar  chlorides  free sulfur dioxide  \\\n",
      "fixed acidity               0.089021   0.023086            -0.049396   \n",
      "volatile acidity            0.064286   0.070512            -0.097012   \n",
      "citric acid                 0.094212   0.114364             0.094077   \n",
      "residual sugar              1.000000   0.088685             0.299098   \n",
      "chlorides                   0.088685   1.000000             0.101392   \n",
      "free sulfur dioxide         0.299098   0.101392             1.000000   \n",
      "total sulfur dioxide        0.401439   0.198910             0.615501   \n",
      "density                     0.838966   0.257211             0.294210   \n",
      "pH                         -0.194133  -0.090439            -0.000618   \n",
      "sulphates                  -0.026664   0.016763             0.059217   \n",
      "alcohol                    -0.450631  -0.360189            -0.250104   \n",
      "TASTE                      -0.117085  -0.183118            -0.023413   \n",
      "\n",
      "                      total sulfur dioxide   density        pH  sulphates  \\\n",
      "fixed acidity                     0.091070  0.265331 -0.425858  -0.017143   \n",
      "volatile acidity                  0.089261  0.027114 -0.031915  -0.035728   \n",
      "citric acid                       0.121131  0.149503 -0.163748   0.062331   \n",
      "residual sugar                    0.401439  0.838966 -0.194133  -0.026664   \n",
      "chlorides                         0.198910  0.257211 -0.090439   0.016763   \n",
      "free sulfur dioxide               0.615501  0.294210 -0.000618   0.059217   \n",
      "total sulfur dioxide              1.000000  0.529881  0.002321   0.134562   \n",
      "density                           0.529881  1.000000 -0.093591   0.074493   \n",
      "pH                                0.002321 -0.093591  1.000000   0.155951   \n",
      "sulphates                         0.134562  0.074493  0.155951   1.000000   \n",
      "alcohol                          -0.448892 -0.780138  0.121432  -0.017433   \n",
      "TASTE                            -0.162202 -0.283871  0.093510   0.047410   \n",
      "\n",
      "                       alcohol     TASTE  \n",
      "fixed acidity        -0.120881 -0.080748  \n",
      "volatile acidity      0.067718 -0.067225  \n",
      "citric acid          -0.075729 -0.035330  \n",
      "residual sugar       -0.450631 -0.117085  \n",
      "chlorides            -0.360189 -0.183118  \n",
      "free sulfur dioxide  -0.250104 -0.023413  \n",
      "total sulfur dioxide -0.448892 -0.162202  \n",
      "density              -0.780138 -0.283871  \n",
      "pH                    0.121432  0.093510  \n",
      "sulphates            -0.017433  0.047410  \n",
      "alcohol               1.000000  0.385132  \n",
      "TASTE                 0.385132  1.000000  \n"
     ]
    }
   ],
   "source": [
    "corr_m = vin.corr()\n",
    "print(corr_m)"
   ]
  },
  {
   "cell_type": "code",
   "execution_count": 12,
   "metadata": {},
   "outputs": [
    {
     "data": {
      "text/plain": [
       "<matplotlib.axes._subplots.AxesSubplot at 0x7fc0b5396a90>"
      ]
     },
     "execution_count": 12,
     "metadata": {},
     "output_type": "execute_result"
    },
    {
     "data": {
      "image/png": "[encoded data removed]",
      "text/plain": [
       "<Figure size 432x288 with 1 Axes>"
      ]
     },
     "metadata": {
      "needs_background": "light"
     },
     "output_type": "display_data"
    }
   ],
   "source": [
    "sns.countplot(x=vin['TASTE'])"
   ]
  },
  {
   "cell_type": "code",
   "execution_count": 13,
   "metadata": {},
   "outputs": [
    {
     "data": {
      "text/plain": [
       "<matplotlib.axes._subplots.AxesSubplot at 0x7fc0b54d81d0>"
      ]
     },
     "execution_count": 13,
     "metadata": {},
     "output_type": "execute_result"
    },
    {
     "data": {
      "image/png": "[encoded data removed]",
      "text/plain": [
       "<Figure size 432x288 with 1 Axes>"
      ]
     },
     "metadata": {
      "needs_background": "light"
     },
     "output_type": "display_data"
    }
   ],
   "source": [
    "sns.boxplot(x=vin['fixed acidity'])"
   ]
  },
  {
   "cell_type": "code",
   "execution_count": 14,
   "metadata": {},
   "outputs": [
    {
     "data": {
      "text/plain": [
       "<matplotlib.axes._subplots.AxesSubplot at 0x7fc0b5442650>"
      ]
     },
     "execution_count": 14,
     "metadata": {},
     "output_type": "execute_result"
    },
    {
     "data": {
      "image/png": "[encoded data removed]",
      "text/plain": [
       "<Figure size 432x288 with 1 Axes>"
      ]
     },
     "metadata": {
      "needs_background": "light"
     },
     "output_type": "display_data"
    }
   ],
   "source": [
    "q = vin['fixed acidity'].quantile(0.99)\n",
    "vin = vin[vin['fixed acidity'] < q]\n",
    "\n",
    "sns.boxplot(x=vin['fixed acidity'])"
   ]
  },
  {
   "cell_type": "code",
   "execution_count": 15,
   "metadata": {},
   "outputs": [
    {
     "data": {
      "text/plain": [
       "<matplotlib.axes._subplots.AxesSubplot at 0x7fc0b5383150>"
      ]
     },
     "execution_count": 15,
     "metadata": {},
     "output_type": "execute_result"
    },
    {
     "data": {
      "image/png": "[encoded data removed]",
      "text/plain": [
       "<Figure size 432x288 with 1 Axes>"
      ]
     },
     "metadata": {
      "needs_background": "light"
     },
     "output_type": "display_data"
    }
   ],
   "source": [
    "sns.boxplot(x=vin['volatile acidity'])"
   ]
  },
  {
   "cell_type": "code",
   "execution_count": 16,
   "metadata": {},
   "outputs": [
    {
     "data": {
      "text/plain": [
       "<matplotlib.axes._subplots.AxesSubplot at 0x7fc0b56e9c90>"
      ]
     },
     "execution_count": 16,
     "metadata": {},
     "output_type": "execute_result"
    },
    {
     "data": {
      "image/png": "[encoded data removed]",
      "text/plain": [
       "<Figure size 432x288 with 1 Axes>"
      ]
     },
     "metadata": {
      "needs_background": "light"
     },
     "output_type": "display_data"
    }
   ],
   "source": [
    "q = vin['volatile acidity'].quantile(0.99)\n",
    "vin = vin[vin['volatile acidity'] < q]\n",
    "\n",
    "sns.boxplot(x=vin['volatile acidity'])"
   ]
  },
  {
   "cell_type": "code",
   "execution_count": 17,
   "metadata": {},
   "outputs": [
    {
     "data": {
      "text/plain": [
       "<matplotlib.axes._subplots.AxesSubplot at 0x7fc0b5a07ad0>"
      ]
     },
     "execution_count": 17,
     "metadata": {},
     "output_type": "execute_result"
    },
    {
     "data": {
      "image/png": "[encoded data removed]",
      "text/plain": [
       "<Figure size 432x288 with 1 Axes>"
      ]
     },
     "metadata": {
      "needs_background": "light"
     },
     "output_type": "display_data"
    }
   ],
   "source": [
    "sns.boxplot(x=vin['citric acid'])"
   ]
  },
  {
   "cell_type": "code",
   "execution_count": 18,
   "metadata": {},
   "outputs": [
    {
     "data": {
      "text/plain": [
       "<matplotlib.axes._subplots.AxesSubplot at 0x7fc0b55a4210>"
      ]
     },
     "execution_count": 18,
     "metadata": {},
     "output_type": "execute_result"
    },
    {
     "data": {
      "image/png": "[encoded data removed]",
      "text/plain": [
       "<Figure size 432x288 with 1 Axes>"
      ]
     },
     "metadata": {
      "needs_background": "light"
     },
     "output_type": "display_data"
    }
   ],
   "source": [
    "q = vin['citric acid'].quantile(0.99)\n",
    "vin = vin[vin['citric acid'] < q]\n",
    "\n",
    "sns.boxplot(x=vin['citric acid'])"
   ]
  },
  {
   "cell_type": "code",
   "execution_count": 19,
   "metadata": {},
   "outputs": [
    {
     "data": {
      "text/plain": [
       "<matplotlib.axes._subplots.AxesSubplot at 0x7fc0b57da810>"
      ]
     },
     "execution_count": 19,
     "metadata": {},
     "output_type": "execute_result"
    },
    {
     "data": {
      "image/png": "[encoded data removed]",
      "text/plain": [
       "<Figure size 432x288 with 1 Axes>"
      ]
     },
     "metadata": {
      "needs_background": "light"
     },
     "output_type": "display_data"
    }
   ],
   "source": [
    "sns.boxplot(x=vin['residual sugar'])"
   ]
  },
  {
   "cell_type": "code",
   "execution_count": 20,
   "metadata": {},
   "outputs": [
    {
     "data": {
      "text/plain": [
       "<matplotlib.axes._subplots.AxesSubplot at 0x7fc0b5ce72d0>"
      ]
     },
     "execution_count": 20,
     "metadata": {},
     "output_type": "execute_result"
    },
    {
     "data": {
      "image/png": "[encoded data removed]",
      "text/plain": [
       "<Figure size 432x288 with 1 Axes>"
      ]
     },
     "metadata": {
      "needs_background": "light"
     },
     "output_type": "display_data"
    }
   ],
   "source": [
    "q = vin['residual sugar'].quantile(0.999)\n",
    "vin = vin[vin['residual sugar'] < q]\n",
    "\n",
    "sns.boxplot(x=vin['residual sugar'])"
   ]
  },
  {
   "cell_type": "code",
   "execution_count": 21,
   "metadata": {},
   "outputs": [
    {
     "data": {
      "text/plain": [
       "<matplotlib.axes._subplots.AxesSubplot at 0x7fc0b5decf50>"
      ]
     },
     "execution_count": 21,
     "metadata": {},
     "output_type": "execute_result"
    },
    {
     "data": {
      "image/png": "[encoded data removed]",
      "text/plain": [
       "<Figure size 432x288 with 1 Axes>"
      ]
     },
     "metadata": {
      "needs_background": "light"
     },
     "output_type": "display_data"
    }
   ],
   "source": [
    "sns.boxplot(x=vin['chlorides'])"
   ]
  },
  {
   "cell_type": "code",
   "execution_count": 22,
   "metadata": {},
   "outputs": [
    {
     "data": {
      "text/plain": [
       "<matplotlib.axes._subplots.AxesSubplot at 0x7fc0b5d8f8d0>"
      ]
     },
     "execution_count": 22,
     "metadata": {},
     "output_type": "execute_result"
    },
    {
     "data": {
      "image/png": "[encoded data removed]",
      "text/plain": [
       "<Figure size 432x288 with 1 Axes>"
      ]
     },
     "metadata": {
      "needs_background": "light"
     },
     "output_type": "display_data"
    }
   ],
   "source": [
    "q = vin['chlorides'].quantile(0.99)\n",
    "vin = vin[vin['chlorides'] < q]\n",
    "\n",
    "sns.boxplot(x=vin['chlorides'])"
   ]
  },
  {
   "cell_type": "code",
   "execution_count": 23,
   "metadata": {},
   "outputs": [
    {
     "data": {
      "text/plain": [
       "<matplotlib.axes._subplots.AxesSubplot at 0x7fc0b5fbbe90>"
      ]
     },
     "execution_count": 23,
     "metadata": {},
     "output_type": "execute_result"
    },
    {
     "data": {
      "image/png": "[encoded data removed]",
      "text/plain": [
       "<Figure size 432x288 with 1 Axes>"
      ]
     },
     "metadata": {
      "needs_background": "light"
     },
     "output_type": "display_data"
    }
   ],
   "source": [
    "sns.boxplot(x=vin['free sulfur dioxide'])"
   ]
  },
  {
   "cell_type": "code",
   "execution_count": 24,
   "metadata": {},
   "outputs": [
    {
     "data": {
      "text/plain": [
       "<matplotlib.axes._subplots.AxesSubplot at 0x7fc0b5be3c10>"
      ]
     },
     "execution_count": 24,
     "metadata": {},
     "output_type": "execute_result"
    },
    {
     "data": {
      "image/png": "[encoded data removed]",
      "text/plain": [
       "<Figure size 432x288 with 1 Axes>"
      ]
     },
     "metadata": {
      "needs_background": "light"
     },
     "output_type": "display_data"
    }
   ],
   "source": [
    "q = vin['free sulfur dioxide'].quantile(0.99)\n",
    "vin = vin[vin['free sulfur dioxide'] < q]\n",
    "\n",
    "sns.boxplot(x=vin['free sulfur dioxide'])"
   ]
  },
  {
   "cell_type": "code",
   "execution_count": 25,
   "metadata": {},
   "outputs": [
    {
     "data": {
      "text/plain": [
       "<matplotlib.axes._subplots.AxesSubplot at 0x7fc0b5e9c410>"
      ]
     },
     "execution_count": 25,
     "metadata": {},
     "output_type": "execute_result"
    },
    {
     "data": {
      "image/png": "[encoded data removed]",
      "text/plain": [
       "<Figure size 432x288 with 1 Axes>"
      ]
     },
     "metadata": {
      "needs_background": "light"
     },
     "output_type": "display_data"
    }
   ],
   "source": [
    "sns.boxplot(x=vin['density'])\n",
    "# density has no outliers"
   ]
  },
  {
   "cell_type": "code",
   "execution_count": 26,
   "metadata": {},
   "outputs": [
    {
     "data": {
      "text/plain": [
       "<matplotlib.axes._subplots.AxesSubplot at 0x7fc0b6243350>"
      ]
     },
     "execution_count": 26,
     "metadata": {},
     "output_type": "execute_result"
    },
    {
     "data": {
      "image/png": "[encoded data removed]",
      "text/plain": [
       "<Figure size 432x288 with 1 Axes>"
      ]
     },
     "metadata": {
      "needs_background": "light"
     },
     "output_type": "display_data"
    }
   ],
   "source": [
    "sns.boxplot(x=vin['pH'])\n",
    "#the outliers are not too far away"
   ]
  },
  {
   "cell_type": "code",
   "execution_count": 29,
   "metadata": {},
   "outputs": [
    {
     "data": {
      "text/plain": [
       "<matplotlib.axes._subplots.AxesSubplot at 0x7fc0b64bbb10>"
      ]
     },
     "execution_count": 29,
     "metadata": {},
     "output_type": "execute_result"
    },
    {
     "data": {
      "image/png": "[encoded data removed]",
      "text/plain": [
       "<Figure size 432x288 with 1 Axes>"
      ]
     },
     "metadata": {
      "needs_background": "light"
     },
     "output_type": "display_data"
    }
   ],
   "source": [
    "sns.boxplot(x=vin['sulphates'])"
   ]
  },
  {
   "cell_type": "code",
   "execution_count": 30,
   "metadata": {},
   "outputs": [
    {
     "data": {
      "text/plain": [
       "<matplotlib.axes._subplots.AxesSubplot at 0x7fc0b679f690>"
      ]
     },
     "execution_count": 30,
     "metadata": {},
     "output_type": "execute_result"
    },
    {
     "data": {
      "image/png": "[encoded data removed]",
      "text/plain": [
       "<Figure size 432x288 with 1 Axes>"
      ]
     },
     "metadata": {
      "needs_background": "light"
     },
     "output_type": "display_data"
    }
   ],
   "source": [
    "sns.boxplot(x=vin['alcohol'])"
   ]
  },
  {
   "cell_type": "code",
   "execution_count": 31,
   "metadata": {},
   "outputs": [],
   "source": [
    "x = vin.drop('TASTE', axis=1)\n",
    "y = vin['TASTE']"
   ]
  },
  {
   "cell_type": "code",
   "execution_count": 32,
   "metadata": {},
   "outputs": [],
   "source": [
    "scaler = StandardScaler()\n",
    "scaler.fit(x)\n",
    "scaled_x = scaler.transform(x)"
   ]
  },
  {
   "cell_type": "code",
   "execution_count": 33,
   "metadata": {},
   "outputs": [],
   "source": [
    "x_train, x_test, y_train, y_test = train_test_split(scaled_x, y, test_size=0.2, random_state=365)"
   ]
  },
  {
   "cell_type": "code",
   "execution_count": 34,
   "metadata": {},
   "outputs": [
    {
     "name": "stdout",
     "output_type": "stream",
     "text": [
      "Accuracy for Logistic Regression : Training data 79.76190476190477\n",
      "Accuracy for Logistic Regression: Test Data 79.004329004329\n"
     ]
    },
    {
     "name": "stderr",
     "output_type": "stream",
     "text": [
      "/Users/sarojakondamudi/opt/anaconda3/lib/python3.7/site-packages/sklearn/linear_model/logistic.py:432: FutureWarning: Default solver will be changed to 'lbfgs' in 0.22. Specify a solver to silence this warning.\n",
      "  FutureWarning)\n"
     ]
    }
   ],
   "source": [
    "# Logistic Regression\n",
    "lg = LogisticRegression()\n",
    "lg = lg.fit(x_train,y_train)\n",
    "y_train_pred = lg.predict(x_train)\n",
    "y_test_pred = lg.predict(x_test)\n",
    "print(\"Accuracy for Logistic Regression : Training data\",metrics.accuracy_score(y_train, y_train_pred)*100)\n",
    "print(\"Accuracy for Logistic Regression: Test Data\",metrics.accuracy_score(y_test, y_test_pred)*100)"
   ]
  },
  {
   "cell_type": "code",
   "execution_count": 38,
   "metadata": {},
   "outputs": [
    {
     "name": "stdout",
     "output_type": "stream",
     "text": [
      "in‐sample percent survivors correctly predicted (on training set) LG:  94.53207150368034\n",
      "in-sample percent fatalities correctly predicted (on training set) LG:  29.774614472123368\n",
      "Precision for train data is:  82.00060808756461\n"
     ]
    }
   ],
   "source": [
    "# for trainining data before grid search\n",
    "lg_cm = confusion_matrix(y_train_pred , y_train)\n",
    "tp_lg ,fp_lg , fn_lg , tn_lg = lg_cm.ravel()\n",
    "tpr_train = (tp_lg)/(tp_lg + fn_lg)\n",
    "print(\"in‐sample percent survivors correctly predicted (on training set) LG: \" , tpr_train * 100)\n",
    "tnr_train = tn_lg / (tn_lg+ fp_lg)\n",
    "print(\"in-sample percent fatalities correctly predicted (on training set) LG: \" , tnr_train * 100)\n",
    "precision_lg = (tp_lg)/(tp_lg+fp_lg)\n",
    "print(\"Precision for train data is: \" , precision_lg * 100)"
   ]
  },
  {
   "cell_type": "code",
   "execution_count": 37,
   "metadata": {},
   "outputs": [
    {
     "name": "stdout",
     "output_type": "stream",
     "text": [
      "out‐sample percent survivors correctly predicted (on test set) LG:  93.37931034482759\n",
      "out-sample percent fatalities correctly predicted (on test set) LG:  26.633165829145728\n",
      "Precision for test data is:  82.26002430133657\n"
     ]
    }
   ],
   "source": [
    "# for testing data before grid search\n",
    "lg_cm = confusion_matrix(y_test_pred , y_test)\n",
    "tp_lg ,fp_lg , fn_lg , tn_lg = lg_cm.ravel()\n",
    "tpr_test = (tp_lg)/(tp_lg + fn_lg)\n",
    "print(\"out‐sample percent survivors correctly predicted (on test set) LG: \" , tpr_test * 100)\n",
    "tnr_test = tn_lg / (tn_lg+ fp_lg)\n",
    "print(\"out-sample percent fatalities correctly predicted (on test set) LG: \" , tnr_test * 100)\n",
    "precision_lg = (tp_lg)/(tp_lg+fp_lg)\n",
    "print(\"Precision for test data is: \" , precision_lg * 100)"
   ]
  },
  {
   "cell_type": "code",
   "execution_count": 39,
   "metadata": {},
   "outputs": [
    {
     "name": "stderr",
     "output_type": "stream",
     "text": [
      "/Users/sarojakondamudi/opt/anaconda3/lib/python3.7/site-packages/sklearn/model_selection/_split.py:1978: FutureWarning: The default value of cv will change from 3 to 5 in version 0.22. Specify it explicitly to silence this warning.\n",
      "  warnings.warn(CV_WARNING, FutureWarning)\n"
     ]
    },
    {
     "name": "stdout",
     "output_type": "stream",
     "text": [
      "{'C': 8, 'multi_class': 'auto', 'solver': 'newton-cg'}\n"
     ]
    }
   ],
   "source": [
    "from sklearn.model_selection import GridSearchCV\n",
    "#build the parameter grid\n",
    "lg = LogisticRegression()\n",
    "lg_grid = [{'C':[1,2,3,4,5,6,7,8,9],'solver':['newton-cg','lbfgs','sag','saga'],\n",
    "           'multi_class':['auto','ovr']}]\n",
    "\n",
    "#build a grid search to find the best parameters\n",
    "gridsearchDT  = GridSearchCV(lg, lg_grid)\n",
    "\n",
    "#run the grid search\n",
    "gridsearchDT.fit(x_train,y_train)\n",
    "\n",
    "score = gridsearchDT.cv_results_\n",
    "print(gridsearchDT.best_params_)\n",
    "scores = gridsearchDT.cv_results_"
   ]
  },
  {
   "cell_type": "code",
   "execution_count": 40,
   "metadata": {},
   "outputs": [
    {
     "name": "stdout",
     "output_type": "stream",
     "text": [
      "Accuracy for Logistic Regression : Training data 79.73484848484848\n",
      "Accuracy for Logistic Regression: Test Data 79.43722943722943\n"
     ]
    }
   ],
   "source": [
    "# using the above mentioned parameters to check if the accuracy has increased\n",
    "# Logistic Regression\n",
    "lg1 = LogisticRegression(C = 8, multi_class= 'auto', solver = 'newton-cg')\n",
    "lg1 = lg1.fit(x_train,y_train)\n",
    "y_train_pred1 = lg1.predict(x_train)\n",
    "y_test_pred1 = lg1.predict(x_test)\n",
    "print(\"Accuracy for Logistic Regression : Training data\",metrics.accuracy_score(y_train, y_train_pred1)*100)\n",
    "print(\"Accuracy for Logistic Regression: Test Data\",metrics.accuracy_score(y_test, y_test_pred1)*100)"
   ]
  },
  {
   "cell_type": "code",
   "execution_count": 41,
   "metadata": {},
   "outputs": [
    {
     "name": "stdout",
     "output_type": "stream",
     "text": [
      "in‐sample percent survivors correctly predicted (on test set) LG_grid:  94.3918682089029\n",
      "in-sample percent fatalities correctly predicted (on test set) LG_grid:  30.13048635824436\n",
      "Precision for train data is:  82.05362583790372\n"
     ]
    }
   ],
   "source": [
    "# for trainining data before grid search\n",
    "lg_cm1 = confusion_matrix(y_train_pred1 , y_train)\n",
    "tp_lg ,fp_lg , fn_lg , tn_lg = lg_cm1.ravel()\n",
    "tpr_train = (tp_lg)/(tp_lg + fn_lg)\n",
    "print(\"in‐sample percent survivors correctly predicted (on test set) LG_grid: \" , tpr_train * 100)\n",
    "tnr_train = tn_lg / (tn_lg+ fp_lg)\n",
    "print(\"in-sample percent fatalities correctly predicted (on test set) LG_grid: \" , tnr_train * 100)\n",
    "precision_lg = (tp_lg)/(tp_lg+fp_lg)\n",
    "print(\"Precision for train data is: \" , precision_lg * 100)"
   ]
  },
  {
   "cell_type": "code",
   "execution_count": 42,
   "metadata": {},
   "outputs": [
    {
     "name": "stdout",
     "output_type": "stream",
     "text": [
      "in‐sample percent survivors correctly predicted (on test set) LG_grid:  93.51724137931035\n",
      "in-sample percent fatalities correctly predicted (on test set) LG_grid:  28.14070351758794\n",
      "Precision for test data is:  82.58221680876979\n"
     ]
    }
   ],
   "source": [
    "# for testing data before grid search\n",
    "lg_cm1 = confusion_matrix(y_test_pred1 , y_test)\n",
    "tp_lg ,fp_lg , fn_lg , tn_lg = lg_cm1.ravel()\n",
    "tpr_test = (tp_lg)/(tp_lg + fn_lg)\n",
    "print(\"in‐sample percent survivors correctly predicted (on test set) LG_grid: \" , tpr_test * 100)\n",
    "tnr_test = tn_lg / (tn_lg+ fp_lg)\n",
    "print(\"in-sample percent fatalities correctly predicted (on test set) LG_grid: \" , tnr_test * 100)\n",
    "precision_lg = (tp_lg)/(tp_lg+fp_lg)\n",
    "print(\"Precision for test data is: \" , precision_lg * 100)"
   ]
  },
  {
   "cell_type": "code",
   "execution_count": 79,
   "metadata": {},
   "outputs": [
    {
     "name": "stdout",
     "output_type": "stream",
     "text": [
      "Accuracy: Training data 83.2521645021645\n",
      "Accuracy: Test Data 83.008658008658\n"
     ]
    }
   ],
   "source": [
    "from sklearn.svm import SVC\n",
    "svc_model = SVC(gamma = 'auto')\n",
    "svc_model = svc_model.fit(x_train,y_train)\n",
    "y_train_pred = svc_model.predict(x_train)\n",
    "y_test_pred = svc_model.predict(x_test)\n",
    "print(\"Accuracy: Training data\",metrics.accuracy_score(y_train, y_train_pred)*100)\n",
    "print(\"Accuracy: Test Data\",metrics.accuracy_score(y_test, y_test_pred)*100)"
   ]
  },
  {
   "cell_type": "code",
   "execution_count": 80,
   "metadata": {},
   "outputs": [
    {
     "name": "stdout",
     "output_type": "stream",
     "text": [
      "in‐sample percent survivors correctly predicted (on training set) :  96.60007010164739\n",
      "in-sample percent fatalities correctly predicted (on training set) :  38.07829181494662\n",
      "Precision for train data is:  84.07565588773642\n"
     ]
    }
   ],
   "source": [
    "# for trainining data\n",
    "svm_cm = confusion_matrix(y_train_pred , y_train)\n",
    "tp_svm ,fp_svm , fn_svm , tn_svm = svm_cm.ravel()\n",
    "tpr_train = (tp_svm)/(tp_svm + fn_svm)\n",
    "print(\"in‐sample percent survivors correctly predicted (on training set) : \" , tpr_train * 100)\n",
    "tnr_train = tn_svm / (tn_svm+ fp_svm)\n",
    "print(\"in-sample percent fatalities correctly predicted (on training set) : \" , tnr_train * 100)\n",
    "precision_svm = (tp_svm)/(tp_svm+fp_svm)\n",
    "print(\"Precision for train data is: \" , precision_svm * 100)"
   ]
  },
  {
   "cell_type": "code",
   "execution_count": 81,
   "metadata": {},
   "outputs": [
    {
     "name": "stdout",
     "output_type": "stream",
     "text": [
      "in‐sample percent survivors correctly predicted (on test set):  95.72413793103448\n",
      "in-sample percent fatalities correctly predicted (on test set) :  36.68341708542713\n",
      "Precision for test data is:  0.8463414634146341\n",
      "Recall for test data is:  0.9572413793103448\n",
      "F1_Score for test data is:  0.8983818770226537\n"
     ]
    }
   ],
   "source": [
    "# for testing data\n",
    "svm_cm = confusion_matrix(y_test_pred , y_test)\n",
    "tp_svm ,fp_svm , fn_svm , tn_svm = svm_cm.ravel()\n",
    "tpr_test = (tp_svm)/(tp_svm + fn_svm)\n",
    "print(\"in‐sample percent survivors correctly predicted (on test set): \" , tpr_test * 100)\n",
    "tnr_test = tn_svm / (tn_svm+ fp_svm)\n",
    "print(\"in-sample percent fatalities correctly predicted (on test set) : \" , tnr_test * 100)\n",
    "precision_svm = (tp_svm)/(tp_svm+fp_svm)\n",
    "print(\"Precision for test data is: \" , precision_svm)\n",
    "recall_svm = (tp_svm) / (tp_svm+fn_svm)\n",
    "print(\"Recall for test data is: \" , recall_svm)\n",
    "f1_score_svm = 2*(recall_svm*precision_svm)/(recall_svm+precision_svm)\n",
    "print(\"F1_Score for test data is: \" , f1_score_svm)"
   ]
  },
  {
   "cell_type": "code",
   "execution_count": 46,
   "metadata": {},
   "outputs": [
    {
     "name": "stderr",
     "output_type": "stream",
     "text": [
      "/Users/sarojakondamudi/opt/anaconda3/lib/python3.7/site-packages/sklearn/model_selection/_split.py:1978: FutureWarning: The default value of cv will change from 3 to 5 in version 0.22. Specify it explicitly to silence this warning.\n",
      "  warnings.warn(CV_WARNING, FutureWarning)\n"
     ]
    },
    {
     "name": "stdout",
     "output_type": "stream",
     "text": [
      "{'C': 7, 'decision_function_shape': 'ovo', 'degree': 1, 'gamma': 'auto'}\n"
     ]
    }
   ],
   "source": [
    "#Trying to imporve the accuracy by finding the best parameters using grid search\n",
    "#build the parameter grid\n",
    "svm = SVC()\n",
    "svm_grid = [{'decision_function_shape':['ovo','ovr'],'gamma':['auto'],\n",
    "            'degree':[1,2,3,4,5],'C':[3,4,7,8,9]}]\n",
    "\n",
    "#build a grid search to find the best parameters\n",
    "gridsearchsvm  = GridSearchCV(svm, svm_grid)\n",
    "\n",
    "#run the grid search\n",
    "gridsearchsvm.fit(x_train,y_train)\n",
    "\n",
    "score = gridsearchsvm.cv_results_\n",
    "print(gridsearchsvm.best_params_)\n",
    "scores = gridsearchsvm.cv_results_"
   ]
  },
  {
   "cell_type": "code",
   "execution_count": 50,
   "metadata": {},
   "outputs": [
    {
     "name": "stdout",
     "output_type": "stream",
     "text": [
      "Accuracy: Training data after Grid Search 83.2521645021645\n",
      "Accuracy: Test Data after Grid Search 83.008658008658\n"
     ]
    }
   ],
   "source": [
    "# applying the above results to imporve the accuracy\n",
    "from sklearn.svm import SVC\n",
    "svc_model1 = SVC(gamma = 'auto',decision_function_shape = 'ovo', C =7, degree=1)\n",
    "svc_model1 = svc_model1.fit(x_train,y_train)\n",
    "y_train_pred1 = svc_model1.predict(x_train)\n",
    "y_test_pred1 = svc_model1.predict(x_test)\n",
    "print(\"Accuracy: Training data after Grid Search\",metrics.accuracy_score(y_train, y_train_pred)*100)\n",
    "print(\"Accuracy: Test Data after Grid Search\",metrics.accuracy_score(y_test, y_test_pred)*100)"
   ]
  },
  {
   "cell_type": "code",
   "execution_count": 51,
   "metadata": {},
   "outputs": [
    {
     "name": "stdout",
     "output_type": "stream",
     "text": [
      "in‐sample percent survivors correctly predicted (on training set) SVM_grid:  96.60007010164739\n",
      "in-sample percent fatalities correctly predicted (on training set) SVM_grid:  56.820877817319094\n",
      "Precision for train data is:  88.33333333333333\n"
     ]
    }
   ],
   "source": [
    "# for trainining data\n",
    "svm_cm1 = confusion_matrix(y_train_pred1 , y_train)\n",
    "tp_svm ,fp_svm , fn_svm , tn_svm = svm_cm1.ravel()\n",
    "tpr_train = (tp_svm)/(tp_svm + fn_svm)\n",
    "print(\"in‐sample percent survivors correctly predicted (on training set) SVM_grid: \" , tpr_train * 100)\n",
    "tnr_train = tn_svm / (tn_svm+ fp_svm)\n",
    "print(\"in-sample percent fatalities correctly predicted (on training set) SVM_grid: \" , tnr_train * 100)\n",
    "precision_svm = (tp_svm)/(tp_svm+fp_svm)\n",
    "print(\"Precision for train data is: \" , precision_svm * 100)"
   ]
  },
  {
   "cell_type": "code",
   "execution_count": 52,
   "metadata": {},
   "outputs": [
    {
     "name": "stdout",
     "output_type": "stream",
     "text": [
      "out‐sample percent survivors correctly predicted (on test set) SVM_grid:  93.51724137931035\n",
      "out-sample percent fatalities correctly predicted (on test set) SVM_grid:  42.71356783919598\n",
      "Precision for test data is:  85.60606060606061\n"
     ]
    }
   ],
   "source": [
    "# for testing data\n",
    "svm_cm1 = confusion_matrix(y_test_pred1 , y_test)\n",
    "tp_svm ,fp_svm , fn_svm , tn_svm = svm_cm1.ravel()\n",
    "tpr_test = (tp_svm)/(tp_svm + fn_svm)\n",
    "print(\"out‐sample percent survivors correctly predicted (on test set) SVM_grid: \" , tpr_test * 100)\n",
    "tnr_test = tn_svm / (tn_svm+ fp_svm)\n",
    "print(\"out-sample percent fatalities correctly predicted (on test set) SVM_grid: \" , tnr_test * 100)\n",
    "precision_svm = (tp_svm)/(tp_svm+fp_svm)\n",
    "print(\"Precision for test data is: \" , precision_svm * 100)"
   ]
  },
  {
   "cell_type": "code",
   "execution_count": 53,
   "metadata": {},
   "outputs": [
    {
     "name": "stdout",
     "output_type": "stream",
     "text": [
      "Accuracy for Gaussian Naive Bayes : Training data 74.86471861471861\n",
      "Accuracy for Gaussian Naive Bayes : Test Data 77.05627705627705\n"
     ]
    }
   ],
   "source": [
    "from sklearn.naive_bayes import GaussianNB\n",
    "gb = GaussianNB()\n",
    "gb_fit = gb.fit(x_train,y_train)\n",
    "y_train_pred = gb.predict(x_train)\n",
    "y_test_pred = gb.predict(x_test)\n",
    "print(\"Accuracy for Gaussian Naive Bayes : Training data\",metrics.accuracy_score(y_train, y_train_pred)*100)\n",
    "print(\"Accuracy for Gaussian Naive Bayes : Test Data\",metrics.accuracy_score(y_test, y_test_pred)*100)"
   ]
  },
  {
   "cell_type": "code",
   "execution_count": 54,
   "metadata": {},
   "outputs": [
    {
     "name": "stdout",
     "output_type": "stream",
     "text": [
      "in‐sample percent survivors correctly predicted (on training set) :  78.8994041359972\n",
      "in-sample percent fatalities correctly predicted (on training set) :  61.20996441281139\n",
      "Precision for train data is:  87.31574864235841\n"
     ]
    }
   ],
   "source": [
    "# for trainining data\n",
    "gb_cm = confusion_matrix(y_train_pred , y_train)\n",
    "tp_gb ,fp_gb , fn_gb, tn_gb = gb_cm.ravel()\n",
    "tpr_train = (tp_gb)/(tp_gb + fn_gb)\n",
    "print(\"in‐sample percent survivors correctly predicted (on training set) : \" , tpr_train * 100)\n",
    "tnr_train = tn_gb / (tn_gb + fp_gb)\n",
    "print(\"in-sample percent fatalities correctly predicted (on training set) : \" , tnr_train * 100)\n",
    "precision_gb= (tp_gb)/(tp_gb+fp_gb)\n",
    "print(\"Precision for train data is: \" , precision_gb * 100)"
   ]
  },
  {
   "cell_type": "code",
   "execution_count": 55,
   "metadata": {},
   "outputs": [
    {
     "name": "stdout",
     "output_type": "stream",
     "text": [
      "in‐sample percent survivors correctly predicted (on test set):  79.44827586206897\n",
      "in-sample percent fatalities correctly predicted (on test set) :  68.34170854271356\n",
      "Precision for test data is:  90.14084507042254\n"
     ]
    }
   ],
   "source": [
    "# for testing data\n",
    "gb_cm = confusion_matrix(y_test_pred , y_test)\n",
    "tp_gb ,fp_gb , fn_gb , tn_gb = gb_cm.ravel()\n",
    "tpr_test = (tp_gb)/(tp_gb + fn_gb)\n",
    "print(\"in‐sample percent survivors correctly predicted (on test set): \" , tpr_test * 100)\n",
    "tnr_test = tn_gb / (tn_gb + fp_gb)\n",
    "print(\"in-sample percent fatalities correctly predicted (on test set) : \" , tnr_test * 100)\n",
    "precision_gb= (tp_gb)/(tp_gb+fp_gb)\n",
    "print(\"Precision for test data is: \" , precision_gb * 100)"
   ]
  },
  {
   "cell_type": "code",
   "execution_count": 82,
   "metadata": {},
   "outputs": [
    {
     "data": {
      "text/plain": [
       "(4620, 6)"
      ]
     },
     "execution_count": 82,
     "metadata": {},
     "output_type": "execute_result"
    }
   ],
   "source": [
    "correlated_features = ['chlorides','total sulfur dioxide','density','alcohol','residual sugar','pH']\n",
    "x = vin[correlated_features]\n",
    "scaler = StandardScaler()\n",
    "scaler.fit(x)\n",
    "scaled_x = scaler.transform(x)\n",
    "x.shape"
   ]
  },
  {
   "cell_type": "code",
   "execution_count": 83,
   "metadata": {},
   "outputs": [
    {
     "data": {
      "text/plain": [
       "(4620,)"
      ]
     },
     "execution_count": 83,
     "metadata": {},
     "output_type": "execute_result"
    }
   ],
   "source": [
    "y = vin['TASTE'].ravel()\n",
    "y.shape"
   ]
  },
  {
   "cell_type": "code",
   "execution_count": 84,
   "metadata": {},
   "outputs": [],
   "source": [
    "x_train_new, x_test_new, y_train_new, y_test_new = train_test_split(x, y, test_size=0.2, random_state=365)"
   ]
  },
  {
   "cell_type": "code",
   "execution_count": 85,
   "metadata": {},
   "outputs": [
    {
     "name": "stdout",
     "output_type": "stream",
     "text": [
      "Accuracy for Logistic Regression : Training data 79.59956709956711\n",
      "Accuracy for Logistic Regression: Test Data 80.51948051948052\n"
     ]
    }
   ],
   "source": [
    "# Logistic Regression\n",
    "lg = LogisticRegression(solver = 'lbfgs')\n",
    "lg = lg.fit(x_train_new,y_train_new)\n",
    "y_train_pred = lg.predict(x_train_new)\n",
    "y_test_pred = lg.predict(x_test_new)\n",
    "print(\"Accuracy for Logistic Regression : Training data\",metrics.accuracy_score(y_train, y_train_pred)*100)\n",
    "print(\"Accuracy for Logistic Regression: Test Data\",metrics.accuracy_score(y_test, y_test_pred)*100)"
   ]
  },
  {
   "cell_type": "code",
   "execution_count": 86,
   "metadata": {},
   "outputs": [
    {
     "name": "stdout",
     "output_type": "stream",
     "text": [
      "out‐sample percent survivors correctly predicted (on test set) LG_grid:  94.62068965517241\n",
      "out-sample percent fatalities correctly predicted (on test set) LG_grid:  29.145728643216078\n",
      "Precision for test data is:  0.8295042321644498\n",
      "Recall for test data is:  0.9462068965517242\n",
      "F1_Score for test data is:  0.884020618556701\n"
     ]
    }
   ],
   "source": [
    "# Evaluation metrics\n",
    "lg_cm1 = confusion_matrix(y_test_pred , y_test)\n",
    "tp_lg ,fp_lg , fn_lg , tn_lg = lg_cm1.ravel()\n",
    "tpr_test = (tp_lg)/(tp_lg + fn_lg)\n",
    "print(\"out‐sample percent survivors correctly predicted (on test set) LG_grid: \" , tpr_test * 100)\n",
    "tnr_test = tn_lg / (tn_lg+ fp_lg)\n",
    "print(\"out-sample percent fatalities correctly predicted (on test set) LG_grid: \" , tnr_test * 100)\n",
    "precision_lg = (tp_lg)/(tp_lg+fp_lg)\n",
    "print(\"Precision for test data is: \" , precision_lg)\n",
    "recall_lg = (tp_lg) / (tp_lg+fn_lg)\n",
    "print(\"Recall for test data is: \" , recall_lg)\n",
    "f1_score_lg = 2*(recall_lg*precision_lg)/(recall_lg+precision_lg)\n",
    "print(\"F1_Score for test data is: \" , f1_score_lg)"
   ]
  },
  {
   "cell_type": "code",
   "execution_count": 87,
   "metadata": {},
   "outputs": [
    {
     "name": "stdout",
     "output_type": "stream",
     "text": [
      "Accuracy: Training data 83.52272727272727\n",
      "Accuracy: Test Data 79.43722943722943\n"
     ]
    }
   ],
   "source": [
    "# SUpport Vector Machine\n",
    "from sklearn.svm import SVC\n",
    "svc_model = SVC(gamma = 'auto')\n",
    "svc_model = svc_model.fit(x_train_new,y_train_new)\n",
    "y_train_pred = svc_model.predict(x_train_new)\n",
    "y_test_pred = svc_model.predict(x_test_new)\n",
    "print(\"Accuracy: Training data\",metrics.accuracy_score(y_train, y_train_pred)*100)\n",
    "print(\"Accuracy: Test Data\",metrics.accuracy_score(y_test, y_test_pred)*100)"
   ]
  },
  {
   "cell_type": "code",
   "execution_count": 88,
   "metadata": {},
   "outputs": [
    {
     "name": "stdout",
     "output_type": "stream",
     "text": [
      "Accuracy for Gaussian Naive Bayes : Training data 75.40584415584416\n",
      "Accuracy for Gaussian Naive Bayes : Test Data 77.92207792207793\n"
     ]
    }
   ],
   "source": [
    "# Naive Bayes\n",
    "from sklearn.naive_bayes import GaussianNB\n",
    "gb = GaussianNB()\n",
    "gb_fit = gb.fit(x_train_new,y_train_new)\n",
    "y_train_pred = gb.predict(x_train_new)\n",
    "y_test_pred = gb.predict(x_test_new)\n",
    "print(\"Accuracy for Gaussian Naive Bayes : Training data\",metrics.accuracy_score(y_train, y_train_pred)*100)\n",
    "print(\"Accuracy for Gaussian Naive Bayes : Test Data\",metrics.accuracy_score(y_test, y_test_pred)*100)"
   ]
  },
  {
   "cell_type": "code",
   "execution_count": 89,
   "metadata": {},
   "outputs": [
    {
     "name": "stdout",
     "output_type": "stream",
     "text": [
      "in‐sample percent survivors correctly predicted (on test set):  81.37931034482759\n",
      "in-sample percent fatalities correctly predicted (on test set) :  65.32663316582915\n",
      "Precision for test data is:  0.8952959028831563\n",
      "Recall for test data is:  0.8137931034482758\n",
      "F1_Score for test data is:  0.852601156069364\n"
     ]
    }
   ],
   "source": [
    "# for testing data\n",
    "gb_cm = confusion_matrix(y_test_pred , y_test)\n",
    "tp_gb ,fp_gb , fn_gb , tn_gb = gb_cm.ravel()\n",
    "tpr_test = (tp_gb)/(tp_gb + fn_gb)\n",
    "print(\"in‐sample percent survivors correctly predicted (on test set): \" , tpr_test * 100)\n",
    "tnr_test = tn_gb / (tn_gb + fp_gb)\n",
    "print(\"in-sample percent fatalities correctly predicted (on test set) : \" , tnr_test * 100)\n",
    "precision_gb= (tp_gb)/(tp_gb+fp_gb)\n",
    "print(\"Precision for test data is: \" , precision_gb)\n",
    "recall_gb = (tp_gb) / (tp_gb+fn_gb)\n",
    "print(\"Recall for test data is: \" , recall_gb)\n",
    "f1_score_gb = 2*(recall_gb*precision_gb)/(recall_gb+precision_gb)\n",
    "print(\"F1_Score for test data is: \" , f1_score_gb)"
   ]
  },
  {
   "cell_type": "code",
   "execution_count": 91,
   "metadata": {},
   "outputs": [
    {
     "name": "stdout",
     "output_type": "stream",
     "text": [
      "Accuracy for Multinomial Random Forest : Test Data 88.96103896103897\n"
     ]
    }
   ],
   "source": [
    "from sklearn.ensemble import RandomForestClassifier\n",
    "# Train and fit the Random Forest Classification model\n",
    "rf = RandomForestClassifier(n_estimators=100,random_state = 0)\n",
    "rf_fit = rf.fit(x_train, y_train)\n",
    "y_train_pred = rf.predict(x_train)\n",
    "y_test_pred = rf.predict(x_test)\n",
    "print(\"Accuracy for Multinomial Random Forest : Test Data\",metrics.accuracy_score(y_test, y_test_pred)*100)"
   ]
  },
  {
   "cell_type": "code",
   "execution_count": 90,
   "metadata": {},
   "outputs": [
    {
     "name": "stdout",
     "output_type": "stream",
     "text": [
      "Accuracy for Multinomial Random Forest : Test Data 88.31168831168831\n"
     ]
    }
   ],
   "source": [
    "from sklearn.ensemble import RandomForestClassifier\n",
    "# Train and fit the Random Forest Classification model\n",
    "rf = RandomForestClassifier(n_estimators=100,random_state = 0)\n",
    "rf_fit = rf.fit(x_train_new,y_train_new)\n",
    "y_train_pred = rf.predict(x_train_new)\n",
    "y_test_pred = rf.predict(x_test_new)\n",
    "print(\"Accuracy for Multinomial Random Forest : Test Data\",metrics.accuracy_score(y_test, y_test_pred)*100)"
   ]
  },
  {
   "cell_type": "code",
   "execution_count": null,
   "metadata": {},
   "outputs": [],
   "source": [
    "print(\"Accuracy for Multinomial Random Forest : Training data\",metrics.accuracy_score(y_train, y_train_pred)*100)\n",
    "print(\"Accuracy for Multinomial Random Forest : Training data\",metrics.accuracy_score(y_train, y_train_pred)*100)"
   ]
  }
 ],
 "metadata": {
  "kernelspec": {
   "display_name": "Python 3",
   "language": "python",
   "name": "python3"
  },
  "language_info": {
   "codemirror_mode": {
    "name": "ipython",
    "version": 3
   },
   "file_extension": ".py",
   "mimetype": "text/x-python",
   "name": "python",
   "nbconvert_exporter": "python",
   "pygments_lexer": "ipython3",
   "version": "3.7.4"
  }
 },
 "nbformat": 4,
 "nbformat_minor": 4
}
