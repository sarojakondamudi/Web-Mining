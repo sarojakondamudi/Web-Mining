{
 "cells": [
  {
   "cell_type": "code",
   "execution_count": 1,
   "metadata": {},
   "outputs": [],
   "source": [
    "from bs4 import BeautifulSoup\n",
    "import re\n",
    "import time\n",
    "import requests\n",
    "\n",
    "\n",
    "def run(url):\n",
    "\n",
    "    pageNum=2 # number of pages to collect\n",
    "\n",
    "    fw=open(\"reviews.txt\",'w') # output file\n",
    "\n",
    "    for p in range(1,pageNum+1): # for each page \n",
    "\n",
    "        print ('page',p)\n",
    "        html=None\n",
    "\n",
    "        if p==1: pageLink=url # url for page 1\n",
    "        else: pageLink=url+'?page='+str(p)+'&sort=' # make the page url\n",
    "\n",
    "        for i in range(5): # try 5 times\n",
    "            try:\n",
    "                #use the browser to access the url\n",
    "                response=requests.get(pageLink,headers = { 'User-Agent': 'Mozilla/5.0 (Windows NT 6.1) AppleWebKit/537.36 (KHTML, like Gecko) Chrome/41.0.2228.0 Safari/537.36', })\n",
    "                html=response.content # get the html\n",
    "                break # we got the file, break the loop\n",
    "            except Exception as e:# browser.open() threw an exception, the attempt to get the response failed\n",
    "                print ('failed attempt',i)\n",
    "                time.sleep(2) # wait 2 secs\n",
    "\n",
    "        if not html:continue # couldnt get the page, ignore\n",
    "        \n",
    "        soup = BeautifulSoup(html.decode('ascii', 'ignore'),'lxml') # parse the html \n",
    "\n",
    "        reviews=soup.findAll('div', {'class':re.compile('review_table_row')}) # get all the review divs\n",
    "\n",
    "        for review in reviews:\n",
    "            \n",
    "            criticChunk=review.find('a',{'href':re.compile('/critic/')})\n",
    "            if criticChunk: critic=criticChunk.text#.encode('ascii','ignore')\n",
    "            if len(critic)==0: critic='NA'\n",
    "                \n",
    "        \n",
    "            ratingChunk=review.find('div',{'class': re.compile('review_icon icon small')})\n",
    "            if ratingChunk:\n",
    "                sample = ratingChunk.attrs['class']\n",
    "                rating = sample[-1] \n",
    "            if len(rating)==0: rating='NA'\n",
    "            \n",
    "            SourceChunk=review.find('em',{'class':'subtle critic-publication'})\n",
    "            if SourceChunk: Source = SourceChunk.text\n",
    "            if len(Source)==0: Source='NA'\n",
    "            \n",
    "            textChunk=review.find('div',{'class':'the_review'})\n",
    "            if textChunk: text = str(textChunk.text.strip())#.encode('ascii','ignore')\n",
    "            if len(text)==0: text='NA'\n",
    "   \n",
    "            \n",
    "            DateChunk=review.find('div',{'class':'review-date subtle small'})\n",
    "            if DateChunk: Date =DateChunk.text.strip()\n",
    "            if len(Date)==0: Date='NA'\n",
    "                \n",
    "            \n",
    "            fw.write(critic+'\\t'+rating+'\\t'+Source+'\\t'+text+'\\t'+Date+'\\n' ) # write to file \n",
    "     \n",
    "           \n",
    "                                                      \n",
    "\n",
    "    fw.close()\n"
   ]
  },
  {
   "cell_type": "code",
   "execution_count": 2,
   "metadata": {},
   "outputs": [
    {
     "name": "stdout",
     "output_type": "stream",
     "text": [
      "page 1\n",
      "page 2\n"
     ]
    }
   ],
   "source": [
    "\n",
    "if __name__=='__main__':\n",
    "    url='https://www.rottentomatoes.com/m/space_jam/reviews/'\n",
    "    run(url)"
   ]
  },
  {
   "cell_type": "code",
   "execution_count": null,
   "metadata": {},
   "outputs": [],
   "source": []
  }
 ],
 "metadata": {
  "kernelspec": {
   "display_name": "Python 3",
   "language": "python",
   "name": "python3"
  },
  "language_info": {
   "codemirror_mode": {
    "name": "ipython",
    "version": 3
   },
   "file_extension": ".py",
   "mimetype": "text/x-python",
   "name": "python",
   "nbconvert_exporter": "python",
   "pygments_lexer": "ipython3",
   "version": "3.7.4"
  }
 },
 "nbformat": 4,
 "nbformat_minor": 2
}
