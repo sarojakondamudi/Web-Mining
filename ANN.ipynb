{
 "cells": [
  {
   "cell_type": "code",
   "execution_count": 57,
   "metadata": {},
   "outputs": [],
   "source": [
    "import numpy as np\n",
    "import matplotlib.pyplot as plt\n",
    "import pandas as pd\n",
    "from sklearn.tree import export_graphviz\n",
    "from IPython.display import Image\n",
    "from sklearn.externals.six import StringIO  \n",
    "import pydotplus\n",
    "\n",
    "#give the location of the file below. I have used mine\n",
    "\n",
    "df =pd.read_csv(\"Titanic.csv\" , index_col = 0)"
   ]
  },
  {
   "cell_type": "code",
   "execution_count": 58,
   "metadata": {},
   "outputs": [
    {
     "data": {
      "text/html": [
       "<div>\n",
       "<style scoped>\n",
       "    .dataframe tbody tr th:only-of-type {\n",
       "        vertical-align: middle;\n",
       "    }\n",
       "\n",
       "    .dataframe tbody tr th {\n",
       "        vertical-align: top;\n",
       "    }\n",
       "\n",
       "    .dataframe thead th {\n",
       "        text-align: right;\n",
       "    }\n",
       "</style>\n",
       "<table border=\"1\" class=\"dataframe\">\n",
       "  <thead>\n",
       "    <tr style=\"text-align: right;\">\n",
       "      <th></th>\n",
       "      <th>pclass</th>\n",
       "      <th>survived</th>\n",
       "      <th>name</th>\n",
       "      <th>sex</th>\n",
       "      <th>age</th>\n",
       "      <th>sibsp</th>\n",
       "      <th>parch</th>\n",
       "      <th>ticket</th>\n",
       "      <th>fare</th>\n",
       "      <th>cabin</th>\n",
       "      <th>embarked</th>\n",
       "      <th>boat</th>\n",
       "      <th>body</th>\n",
       "      <th>home.dest</th>\n",
       "    </tr>\n",
       "  </thead>\n",
       "  <tbody>\n",
       "    <tr>\n",
       "      <td>1</td>\n",
       "      <td>1st</td>\n",
       "      <td>1</td>\n",
       "      <td>Allen, Miss. Elisabeth Walton</td>\n",
       "      <td>female</td>\n",
       "      <td>29.0000</td>\n",
       "      <td>0</td>\n",
       "      <td>0</td>\n",
       "      <td>24160</td>\n",
       "      <td>211.337494</td>\n",
       "      <td>B5</td>\n",
       "      <td>Southampton</td>\n",
       "      <td>2</td>\n",
       "      <td>NaN</td>\n",
       "      <td>St Louis, MO</td>\n",
       "    </tr>\n",
       "    <tr>\n",
       "      <td>2</td>\n",
       "      <td>1st</td>\n",
       "      <td>1</td>\n",
       "      <td>Allison, Master. Hudson Trevor</td>\n",
       "      <td>male</td>\n",
       "      <td>0.9167</td>\n",
       "      <td>1</td>\n",
       "      <td>2</td>\n",
       "      <td>113781</td>\n",
       "      <td>151.550003</td>\n",
       "      <td>C22 C26</td>\n",
       "      <td>Southampton</td>\n",
       "      <td>11</td>\n",
       "      <td>NaN</td>\n",
       "      <td>Montreal, PQ / Chesterville, ON</td>\n",
       "    </tr>\n",
       "    <tr>\n",
       "      <td>3</td>\n",
       "      <td>1st</td>\n",
       "      <td>0</td>\n",
       "      <td>Allison, Miss. Helen Loraine</td>\n",
       "      <td>female</td>\n",
       "      <td>2.0000</td>\n",
       "      <td>1</td>\n",
       "      <td>2</td>\n",
       "      <td>113781</td>\n",
       "      <td>151.550003</td>\n",
       "      <td>C22 C26</td>\n",
       "      <td>Southampton</td>\n",
       "      <td>NaN</td>\n",
       "      <td>NaN</td>\n",
       "      <td>Montreal, PQ / Chesterville, ON</td>\n",
       "    </tr>\n",
       "    <tr>\n",
       "      <td>4</td>\n",
       "      <td>1st</td>\n",
       "      <td>0</td>\n",
       "      <td>Allison, Mr. Hudson Joshua Crei</td>\n",
       "      <td>male</td>\n",
       "      <td>30.0000</td>\n",
       "      <td>1</td>\n",
       "      <td>2</td>\n",
       "      <td>113781</td>\n",
       "      <td>151.550003</td>\n",
       "      <td>C22 C26</td>\n",
       "      <td>Southampton</td>\n",
       "      <td>NaN</td>\n",
       "      <td>135.0</td>\n",
       "      <td>Montreal, PQ / Chesterville, ON</td>\n",
       "    </tr>\n",
       "    <tr>\n",
       "      <td>5</td>\n",
       "      <td>1st</td>\n",
       "      <td>0</td>\n",
       "      <td>Allison, Mrs. Hudson J C (Bessi</td>\n",
       "      <td>female</td>\n",
       "      <td>25.0000</td>\n",
       "      <td>1</td>\n",
       "      <td>2</td>\n",
       "      <td>113781</td>\n",
       "      <td>151.550003</td>\n",
       "      <td>C22 C26</td>\n",
       "      <td>Southampton</td>\n",
       "      <td>NaN</td>\n",
       "      <td>NaN</td>\n",
       "      <td>Montreal, PQ / Chesterville, ON</td>\n",
       "    </tr>\n",
       "  </tbody>\n",
       "</table>\n",
       "</div>"
      ],
      "text/plain": [
       "  pclass  survived                             name     sex      age  sibsp  \\\n",
       "1    1st         1    Allen, Miss. Elisabeth Walton  female  29.0000      0   \n",
       "2    1st         1   Allison, Master. Hudson Trevor    male   0.9167      1   \n",
       "3    1st         0     Allison, Miss. Helen Loraine  female   2.0000      1   \n",
       "4    1st         0  Allison, Mr. Hudson Joshua Crei    male  30.0000      1   \n",
       "5    1st         0  Allison, Mrs. Hudson J C (Bessi  female  25.0000      1   \n",
       "\n",
       "   parch  ticket        fare    cabin     embarked boat   body  \\\n",
       "1      0   24160  211.337494       B5  Southampton    2    NaN   \n",
       "2      2  113781  151.550003  C22 C26  Southampton   11    NaN   \n",
       "3      2  113781  151.550003  C22 C26  Southampton  NaN    NaN   \n",
       "4      2  113781  151.550003  C22 C26  Southampton  NaN  135.0   \n",
       "5      2  113781  151.550003  C22 C26  Southampton  NaN    NaN   \n",
       "\n",
       "                         home.dest  \n",
       "1                     St Louis, MO  \n",
       "2  Montreal, PQ / Chesterville, ON  \n",
       "3  Montreal, PQ / Chesterville, ON  \n",
       "4  Montreal, PQ / Chesterville, ON  \n",
       "5  Montreal, PQ / Chesterville, ON  "
      ]
     },
     "execution_count": 58,
     "metadata": {},
     "output_type": "execute_result"
    }
   ],
   "source": [
    "df.head()"
   ]
  },
  {
   "cell_type": "code",
   "execution_count": 59,
   "metadata": {},
   "outputs": [
    {
     "data": {
      "text/html": [
       "<div>\n",
       "<style scoped>\n",
       "    .dataframe tbody tr th:only-of-type {\n",
       "        vertical-align: middle;\n",
       "    }\n",
       "\n",
       "    .dataframe tbody tr th {\n",
       "        vertical-align: top;\n",
       "    }\n",
       "\n",
       "    .dataframe thead th {\n",
       "        text-align: right;\n",
       "    }\n",
       "</style>\n",
       "<table border=\"1\" class=\"dataframe\">\n",
       "  <thead>\n",
       "    <tr style=\"text-align: right;\">\n",
       "      <th></th>\n",
       "      <th>pclass</th>\n",
       "      <th>survived</th>\n",
       "      <th>name</th>\n",
       "      <th>sex</th>\n",
       "      <th>age</th>\n",
       "      <th>sibsp</th>\n",
       "      <th>parch</th>\n",
       "      <th>ticket</th>\n",
       "      <th>fare</th>\n",
       "      <th>cabin</th>\n",
       "      <th>embarked</th>\n",
       "      <th>boat</th>\n",
       "      <th>body</th>\n",
       "      <th>home.dest</th>\n",
       "      <th>pclass_new</th>\n",
       "      <th>sex_new</th>\n",
       "    </tr>\n",
       "  </thead>\n",
       "  <tbody>\n",
       "    <tr>\n",
       "      <td>1</td>\n",
       "      <td>1st</td>\n",
       "      <td>1</td>\n",
       "      <td>Allen, Miss. Elisabeth Walton</td>\n",
       "      <td>female</td>\n",
       "      <td>29.0000</td>\n",
       "      <td>0</td>\n",
       "      <td>0</td>\n",
       "      <td>24160</td>\n",
       "      <td>211.337494</td>\n",
       "      <td>B5</td>\n",
       "      <td>Southampton</td>\n",
       "      <td>2</td>\n",
       "      <td>NaN</td>\n",
       "      <td>St Louis, MO</td>\n",
       "      <td>1</td>\n",
       "      <td>0</td>\n",
       "    </tr>\n",
       "    <tr>\n",
       "      <td>2</td>\n",
       "      <td>1st</td>\n",
       "      <td>1</td>\n",
       "      <td>Allison, Master. Hudson Trevor</td>\n",
       "      <td>male</td>\n",
       "      <td>0.9167</td>\n",
       "      <td>1</td>\n",
       "      <td>2</td>\n",
       "      <td>113781</td>\n",
       "      <td>151.550003</td>\n",
       "      <td>C22 C26</td>\n",
       "      <td>Southampton</td>\n",
       "      <td>11</td>\n",
       "      <td>NaN</td>\n",
       "      <td>Montreal, PQ / Chesterville, ON</td>\n",
       "      <td>1</td>\n",
       "      <td>1</td>\n",
       "    </tr>\n",
       "    <tr>\n",
       "      <td>3</td>\n",
       "      <td>1st</td>\n",
       "      <td>0</td>\n",
       "      <td>Allison, Miss. Helen Loraine</td>\n",
       "      <td>female</td>\n",
       "      <td>2.0000</td>\n",
       "      <td>1</td>\n",
       "      <td>2</td>\n",
       "      <td>113781</td>\n",
       "      <td>151.550003</td>\n",
       "      <td>C22 C26</td>\n",
       "      <td>Southampton</td>\n",
       "      <td>NaN</td>\n",
       "      <td>NaN</td>\n",
       "      <td>Montreal, PQ / Chesterville, ON</td>\n",
       "      <td>1</td>\n",
       "      <td>0</td>\n",
       "    </tr>\n",
       "    <tr>\n",
       "      <td>4</td>\n",
       "      <td>1st</td>\n",
       "      <td>0</td>\n",
       "      <td>Allison, Mr. Hudson Joshua Crei</td>\n",
       "      <td>male</td>\n",
       "      <td>30.0000</td>\n",
       "      <td>1</td>\n",
       "      <td>2</td>\n",
       "      <td>113781</td>\n",
       "      <td>151.550003</td>\n",
       "      <td>C22 C26</td>\n",
       "      <td>Southampton</td>\n",
       "      <td>NaN</td>\n",
       "      <td>135.0</td>\n",
       "      <td>Montreal, PQ / Chesterville, ON</td>\n",
       "      <td>1</td>\n",
       "      <td>1</td>\n",
       "    </tr>\n",
       "    <tr>\n",
       "      <td>5</td>\n",
       "      <td>1st</td>\n",
       "      <td>0</td>\n",
       "      <td>Allison, Mrs. Hudson J C (Bessi</td>\n",
       "      <td>female</td>\n",
       "      <td>25.0000</td>\n",
       "      <td>1</td>\n",
       "      <td>2</td>\n",
       "      <td>113781</td>\n",
       "      <td>151.550003</td>\n",
       "      <td>C22 C26</td>\n",
       "      <td>Southampton</td>\n",
       "      <td>NaN</td>\n",
       "      <td>NaN</td>\n",
       "      <td>Montreal, PQ / Chesterville, ON</td>\n",
       "      <td>1</td>\n",
       "      <td>0</td>\n",
       "    </tr>\n",
       "  </tbody>\n",
       "</table>\n",
       "</div>"
      ],
      "text/plain": [
       "  pclass  survived                             name     sex      age  sibsp  \\\n",
       "1    1st         1    Allen, Miss. Elisabeth Walton  female  29.0000      0   \n",
       "2    1st         1   Allison, Master. Hudson Trevor    male   0.9167      1   \n",
       "3    1st         0     Allison, Miss. Helen Loraine  female   2.0000      1   \n",
       "4    1st         0  Allison, Mr. Hudson Joshua Crei    male  30.0000      1   \n",
       "5    1st         0  Allison, Mrs. Hudson J C (Bessi  female  25.0000      1   \n",
       "\n",
       "   parch  ticket        fare    cabin     embarked boat   body  \\\n",
       "1      0   24160  211.337494       B5  Southampton    2    NaN   \n",
       "2      2  113781  151.550003  C22 C26  Southampton   11    NaN   \n",
       "3      2  113781  151.550003  C22 C26  Southampton  NaN    NaN   \n",
       "4      2  113781  151.550003  C22 C26  Southampton  NaN  135.0   \n",
       "5      2  113781  151.550003  C22 C26  Southampton  NaN    NaN   \n",
       "\n",
       "                         home.dest pclass_new sex_new  \n",
       "1                     St Louis, MO          1       0  \n",
       "2  Montreal, PQ / Chesterville, ON          1       1  \n",
       "3  Montreal, PQ / Chesterville, ON          1       0  \n",
       "4  Montreal, PQ / Chesterville, ON          1       1  \n",
       "5  Montreal, PQ / Chesterville, ON          1       0  "
      ]
     },
     "execution_count": 59,
     "metadata": {},
     "output_type": "execute_result"
    }
   ],
   "source": [
    "df['pclass_new']= df['pclass'].replace('1st','1').replace('2nd','2').replace('3rd','3')\n",
    "df['sex_new']= df['sex'].replace('female','0').replace('male','1')\n",
    "df['age'] = df['age'].fillna(0)\n",
    "df.head()"
   ]
  },
  {
   "cell_type": "code",
   "execution_count": 60,
   "metadata": {},
   "outputs": [
    {
     "data": {
      "text/plain": [
       "array([0, 1, 2, 3, 4, 5, 8])"
      ]
     },
     "execution_count": 60,
     "metadata": {},
     "output_type": "execute_result"
    }
   ],
   "source": [
    "df.sibsp.unique()"
   ]
  },
  {
   "cell_type": "code",
   "execution_count": 61,
   "metadata": {},
   "outputs": [],
   "source": [
    "df_req=df.drop(columns=['pclass','name','sex','parch','ticket','fare','cabin','embarked','boat','body','home.dest'])"
   ]
  },
  {
   "cell_type": "code",
   "execution_count": 62,
   "metadata": {},
   "outputs": [
    {
     "data": {
      "text/plain": [
       "survived      0\n",
       "age           0\n",
       "sibsp         0\n",
       "pclass_new    0\n",
       "sex_new       0\n",
       "dtype: int64"
      ]
     },
     "execution_count": 62,
     "metadata": {},
     "output_type": "execute_result"
    }
   ],
   "source": [
    "df_req.isna().sum()"
   ]
  },
  {
   "cell_type": "code",
   "execution_count": 63,
   "metadata": {},
   "outputs": [
    {
     "data": {
      "text/plain": [
       "survived        int64\n",
       "age           float64\n",
       "sibsp           int64\n",
       "pclass_new     object\n",
       "sex_new        object\n",
       "dtype: object"
      ]
     },
     "execution_count": 63,
     "metadata": {},
     "output_type": "execute_result"
    }
   ],
   "source": [
    "datatypes = df_req.dtypes\n",
    "datatypes"
   ]
  },
  {
   "cell_type": "code",
   "execution_count": 64,
   "metadata": {},
   "outputs": [
    {
     "data": {
      "text/plain": [
       "(1309, 4)"
      ]
     },
     "execution_count": 64,
     "metadata": {},
     "output_type": "execute_result"
    }
   ],
   "source": [
    "# dividing the data into 80 % training and 20 % test data\n",
    "x = df_req[['pclass_new','sex_new','age','sibsp']]\n",
    "x.shape"
   ]
  },
  {
   "cell_type": "code",
   "execution_count": 105,
   "metadata": {},
   "outputs": [
    {
     "data": {
      "text/plain": [
       "(1309,)"
      ]
     },
     "execution_count": 105,
     "metadata": {},
     "output_type": "execute_result"
    }
   ],
   "source": [
    "y = df_req['survived'].ravel()\n",
    "y.shape"
   ]
  },
  {
   "cell_type": "code",
   "execution_count": 106,
   "metadata": {},
   "outputs": [],
   "source": [
    "from sklearn.utils.validation import column_or_1d\n",
    "\n",
    "from sklearn.model_selection import train_test_split\n",
    "x_train, x_test, y_train, y_test = train_test_split(x, y, test_size=0.20, random_state=42)"
   ]
  },
  {
   "cell_type": "code",
   "execution_count": 107,
   "metadata": {},
   "outputs": [
    {
     "data": {
      "text/plain": [
       "(1047, 4)"
      ]
     },
     "execution_count": 107,
     "metadata": {},
     "output_type": "execute_result"
    }
   ],
   "source": [
    "x_train.shape"
   ]
  },
  {
   "cell_type": "code",
   "execution_count": 108,
   "metadata": {},
   "outputs": [
    {
     "data": {
      "text/plain": [
       "(1047,)"
      ]
     },
     "execution_count": 108,
     "metadata": {},
     "output_type": "execute_result"
    }
   ],
   "source": [
    "y_train.shape"
   ]
  },
  {
   "cell_type": "code",
   "execution_count": 109,
   "metadata": {},
   "outputs": [
    {
     "data": {
      "text/plain": [
       "(262, 4)"
      ]
     },
     "execution_count": 109,
     "metadata": {},
     "output_type": "execute_result"
    }
   ],
   "source": [
    "x_test.shape"
   ]
  },
  {
   "cell_type": "code",
   "execution_count": 110,
   "metadata": {},
   "outputs": [
    {
     "data": {
      "text/plain": [
       "(262,)"
      ]
     },
     "execution_count": 110,
     "metadata": {},
     "output_type": "execute_result"
    }
   ],
   "source": [
    "y_test.shape"
   ]
  },
  {
   "cell_type": "code",
   "execution_count": 111,
   "metadata": {},
   "outputs": [
    {
     "data": {
      "text/plain": [
       "MLPClassifier(activation='logistic', alpha=0.001, batch_size='auto', beta_1=0.9,\n",
       "              beta_2=0.999, early_stopping=False, epsilon=1e-08,\n",
       "              hidden_layer_sizes=(8, 2), learning_rate='constant',\n",
       "              learning_rate_init=0.1, max_iter=200, momentum=0.92,\n",
       "              n_iter_no_change=10, nesterovs_momentum=True, power_t=0.5,\n",
       "              random_state=1, shuffle=True, solver='adam', tol=0.0001,\n",
       "              validation_fraction=0.1, verbose=False, warm_start=False)"
      ]
     },
     "execution_count": 111,
     "metadata": {},
     "output_type": "execute_result"
    }
   ],
   "source": [
    "from sklearn.neural_network import MLPClassifier\n",
    "mlnn = MLPClassifier(solver='adam', alpha=1e-3, hidden_layer_sizes=(8,2), random_state=1, activation = 'logistic', learning_rate_init = 0.1, momentum = 0.92)\n",
    "mlnn.fit(x_train ,  y_train)"
   ]
  },
  {
   "cell_type": "code",
   "execution_count": 112,
   "metadata": {},
   "outputs": [
    {
     "name": "stdout",
     "output_type": "stream",
     "text": [
      "The trainig set result is 81.56638013371537\n",
      "The test set  result is 77.86259541984732\n"
     ]
    }
   ],
   "source": [
    "#finding training & test set accuracy results\n",
    "#Training data set\n",
    "from sklearn.metrics import accuracy_score\n",
    "train_set_prediction = mlnn.predict(x_train)\n",
    "train_set_results  = accuracy_score(train_set_prediction , y_train)\n",
    "print(\"The trainig set result is {}\".format(train_set_results * 100))\n",
    "#Testing data set\n",
    "mlnn.fit(x_train ,y_train)\n",
    "test_set_prediction  = mlnn.predict(x_test)\n",
    "test_set_accuracy = accuracy_score(test_set_prediction , y_test)\n",
    "print(\"The test set  result is {}\".format(test_set_accuracy * 100))"
   ]
  },
  {
   "cell_type": "code",
   "execution_count": 113,
   "metadata": {},
   "outputs": [
    {
     "name": "stdout",
     "output_type": "stream",
     "text": [
      "[[576 104]\n",
      " [ 89 278]]\n"
     ]
    }
   ],
   "source": [
    "from sklearn.metrics import confusion_matrix\n",
    "cm_train = confusion_matrix(train_set_prediction , y_train)\n",
    "print(cm_train)"
   ]
  },
  {
   "cell_type": "code",
   "execution_count": 114,
   "metadata": {},
   "outputs": [
    {
     "name": "stdout",
     "output_type": "stream",
     "text": [
      "[576 104  89 278]\n"
     ]
    }
   ],
   "source": [
    "print(cm_train.ravel())"
   ]
  },
  {
   "cell_type": "code",
   "execution_count": 115,
   "metadata": {},
   "outputs": [
    {
     "name": "stdout",
     "output_type": "stream",
     "text": [
      "in‐sample percent survivors correctly predicted:  86.61654135338345\n",
      "in-sample percent fatalities correctly predicted :  72.77486910994764\n"
     ]
    }
   ],
   "source": [
    "#Prediction on training dataset\n",
    "True_Positive ,False_Positive , False_Negative , True_Negative = cm_train.ravel()\n",
    "TPR=True_Positive/(True_Positive+False_Negative)\n",
    "print(\"in‐sample percent survivors correctly predicted: \" , TPR * 100)\n",
    "TNR = True_Negative / (True_Negative+ False_Positive)\n",
    "print(\"in-sample percent fatalities correctly predicted : \" , TNR * 100)"
   ]
  },
  {
   "cell_type": "code",
   "execution_count": 116,
   "metadata": {},
   "outputs": [
    {
     "name": "stdout",
     "output_type": "stream",
     "text": [
      "[[126  40]\n",
      " [ 18  78]]\n",
      "out-of-sample percent survivors correctly predicted:  87.5\n",
      "Out-of-sample percent fatalities correctly predicted :  66.10169491525424\n"
     ]
    }
   ],
   "source": [
    "#Predion on Test dataset\n",
    "cm_test = confusion_matrix(test_set_prediction , y_test)\n",
    "print(cm_test)\n",
    "True_Positive_Test ,False_Positive_Test , False_Negative_Test , True_Negative_Test = cm_test.ravel()\n",
    "TPR_Test=True_Positive_Test/(True_Positive_Test+False_Negative_Test)\n",
    "print(\"out-of-sample percent survivors correctly predicted: \" , TPR_Test * 100)\n",
    "TNR_Test = True_Negative_Test / (True_Negative_Test+ False_Positive_Test)\n",
    "print(\"Out-of-sample percent fatalities correctly predicted : \" , TNR_Test * 100)"
   ]
  },
  {
   "cell_type": "code",
   "execution_count": 117,
   "metadata": {},
   "outputs": [],
   "source": [
    "#Changing the hidden layer from(8,2) to (5,2)"
   ]
  },
  {
   "cell_type": "code",
   "execution_count": 118,
   "metadata": {},
   "outputs": [
    {
     "data": {
      "text/plain": [
       "MLPClassifier(activation='logistic', alpha=0.001, batch_size='auto', beta_1=0.9,\n",
       "              beta_2=0.999, early_stopping=False, epsilon=1e-08,\n",
       "              hidden_layer_sizes=(5, 2), learning_rate='constant',\n",
       "              learning_rate_init=0.1, max_iter=200, momentum=0.92,\n",
       "              n_iter_no_change=10, nesterovs_momentum=True, power_t=0.5,\n",
       "              random_state=1, shuffle=True, solver='adam', tol=0.0001,\n",
       "              validation_fraction=0.1, verbose=False, warm_start=False)"
      ]
     },
     "execution_count": 118,
     "metadata": {},
     "output_type": "execute_result"
    }
   ],
   "source": [
    "from sklearn.neural_network import MLPClassifier\n",
    "mlnn = MLPClassifier(solver='adam', alpha=1e-3, hidden_layer_sizes=(5,2), random_state=1, activation = 'logistic', learning_rate_init = 0.1, momentum = 0.92)\n",
    "mlnn.fit(x_train ,  y_train)"
   ]
  },
  {
   "cell_type": "code",
   "execution_count": 119,
   "metadata": {},
   "outputs": [
    {
     "name": "stdout",
     "output_type": "stream",
     "text": [
      "The trainig set result is 82.33046800382043\n",
      "The test set  result is 75.19083969465649\n"
     ]
    }
   ],
   "source": [
    "#finding training & test set accuracy results\n",
    "#Training data set\n",
    "from sklearn.metrics import accuracy_score\n",
    "train_set_prediction1 = mlnn.predict(x_train)\n",
    "train_set_results1  = accuracy_score(train_set_prediction1 , y_train)\n",
    "print(\"The trainig set result is {}\".format(train_set_results1 * 100))\n",
    "#Testing data set\n",
    "mlnn.fit(x_train ,y_train)\n",
    "test_set_prediction1  = mlnn.predict(x_test)\n",
    "test_set_accuracy1 = accuracy_score(test_set_prediction1 , y_test)\n",
    "print(\"The test set  result is {}\".format(test_set_accuracy1 * 100))"
   ]
  },
  {
   "cell_type": "code",
   "execution_count": 120,
   "metadata": {},
   "outputs": [
    {
     "name": "stdout",
     "output_type": "stream",
     "text": [
      "[[625 145]\n",
      " [ 40 237]]\n",
      "in‐sample percent survivors correctly predicted:  93.98496240601504\n",
      "in-sample percent fatalities correctly predicted :  62.04188481675392\n"
     ]
    }
   ],
   "source": [
    "from sklearn.metrics import confusion_matrix\n",
    "cm_train1 = confusion_matrix(train_set_prediction1 , y_train)\n",
    "print(cm_train1)\n",
    "True_Positive ,False_Positive , False_Negative , True_Negative = cm_train1.ravel()\n",
    "TPR1=True_Positive/(True_Positive+False_Negative)\n",
    "print(\"in‐sample percent survivors correctly predicted: \" , TPR1 * 100)\n",
    "TNR1 = True_Negative / (True_Negative+ False_Positive)\n",
    "print(\"in-sample percent fatalities correctly predicted : \" , TNR1 * 100)"
   ]
  },
  {
   "cell_type": "code",
   "execution_count": 121,
   "metadata": {},
   "outputs": [
    {
     "name": "stdout",
     "output_type": "stream",
     "text": [
      "[[136  57]\n",
      " [  8  61]]\n",
      "out-of-sample percent survivors correctly predicted:  94.44444444444444\n",
      "Out-of-sample percent fatalities correctly predicted :  51.69491525423729\n"
     ]
    }
   ],
   "source": [
    "cm_test1 = confusion_matrix(test_set_prediction1 , y_test)\n",
    "print(cm_test1)\n",
    "True_Positive_Test ,False_Positive_Test , False_Negative_Test , True_Negative_Test = cm_test1.ravel()\n",
    "TPR_Test1=True_Positive_Test/(True_Positive_Test+False_Negative_Test)\n",
    "print(\"out-of-sample percent survivors correctly predicted: \" , TPR_Test1 * 100)\n",
    "TNR_Test1 = True_Negative_Test / (True_Negative_Test+ False_Positive_Test)\n",
    "print(\"Out-of-sample percent fatalities correctly predicted : \" , TNR_Test1 * 100)"
   ]
  },
  {
   "cell_type": "code",
   "execution_count": 122,
   "metadata": {},
   "outputs": [
    {
     "name": "stdout",
     "output_type": "stream",
     "text": [
      "For Decision Tree from HW3\n",
      "Accuracy: Training data 89.207258834766\n",
      "Accuracy: Test Data 75.57251908396947\n",
      "in‐sample percent survivors correctly predicted:  96.2406015037594\n",
      "in-sample percent fatalities correctly predicted (on training set) :  76.96335078534031\n",
      "out‐of‐sample percent survivors correctly predicted (on test set) : 88.19444444444444\n",
      "out-of‐sample percent fatalities correctly predicted (on test set)  60.16949152542372\n"
     ]
    }
   ],
   "source": [
    "print(\"For Decision Tree from HW3\")\n",
    "print(\"Accuracy: Training data 89.207258834766\")\n",
    "print(\"Accuracy: Test Data 75.57251908396947\")\n",
    "print(\"in‐sample percent survivors correctly predicted:  96.2406015037594\")\n",
    "print(\"in-sample percent fatalities correctly predicted (on training set) :  76.96335078534031\")\n",
    "print(\"out‐of‐sample percent survivors correctly predicted (on test set) : 88.19444444444444\")\n",
    "print(\"out-of‐sample percent fatalities correctly predicted (on test set)  60.16949152542372\")"
   ]
  },
  {
   "cell_type": "code",
   "execution_count": 123,
   "metadata": {},
   "outputs": [
    {
     "name": "stdout",
     "output_type": "stream",
     "text": [
      "For NN\n",
      "The trainig set result is 81.56638013371537\n",
      "The test set  result is 77.86259541984732\n",
      "in‐sample percent survivors correctly predicted:  86.61654135338345\n",
      "in-sample percent fatalities correctly predicted :  72.77486910994764\n",
      "out-of-sample percent survivors correctly predicted:  87.5\n",
      "Out-of-sample percent fatalities correctly predicted :  66.10169491525424\n"
     ]
    }
   ],
   "source": [
    "print(\"For NN\")\n",
    "print(\"The trainig set result is {}\".format(train_set_results * 100))\n",
    "print(\"The test set  result is {}\".format(test_set_accuracy * 100))\n",
    "print(\"in‐sample percent survivors correctly predicted: \" , TPR * 100)\n",
    "print(\"in-sample percent fatalities correctly predicted : \" , TNR * 100)\n",
    "print(\"out-of-sample percent survivors correctly predicted: \" , TPR_Test * 100)\n",
    "print(\"Out-of-sample percent fatalities correctly predicted : \" , TNR_Test * 100)"
   ]
  },
  {
   "cell_type": "code",
   "execution_count": null,
   "metadata": {},
   "outputs": [],
   "source": [
    "#By comparing all the accuracies and especially the out-of-sample and test data accuracies \n",
    "#the Neural Network works better accoridng to my code"
   ]
  }
 ],
 "metadata": {
  "kernelspec": {
   "display_name": "Python 3",
   "language": "python",
   "name": "python3"
  },
  "language_info": {
   "codemirror_mode": {
    "name": "ipython",
    "version": 3
   },
   "file_extension": ".py",
   "mimetype": "text/x-python",
   "name": "python",
   "nbconvert_exporter": "python",
   "pygments_lexer": "ipython3",
   "version": "3.7.4"
  }
 },
 "nbformat": 4,
 "nbformat_minor": 2
}
